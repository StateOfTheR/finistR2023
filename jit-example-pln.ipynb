{
 "cells": [
  {
   "cell_type": "markdown",
   "id": "1dfdb505-96e7-4533-9105-e535cb13a18d",
   "metadata": {},
   "source": [
    "# FinistR : bootcamp R à Roscoff"
   ]
  },
  {
   "cell_type": "markdown",
   "id": "29eb7247-be89-4671-94b7-43ab17140b62",
   "metadata": {},
   "source": [
    "## JIT compilation with pytorch"
   ]
  },
  {
   "cell_type": "markdown",
   "id": "18dfe260-7268-43d0-a920-3c853dc0f0a5",
   "metadata": {},
   "source": [
    "We study Just In Time (JIT) compilation with pytorch. This tutorial is to be compared with [JIT compilation in pytorch](https://stateofther.github.io/finistR2023/jit-example-pln-jax.html) where much more explanations are given."
   ]
  },
  {
   "cell_type": "markdown",
   "id": "4646e62d-9434-426b-b9e8-ad721e66f008",
   "metadata": {},
   "source": [
    "## Set-up\n",
    "\n",
    "References to pytorch JIT compilation, by order of difficulty:\n",
    "\n",
    "-   [pytorch jit official\n",
    "    documentation](https://pytorch.org/docs/stable/jit.html)\n",
    "-   [pytorch jit trace\n",
    "    documentation](https://pytorch.org/docs/stable/generated/torch.jit.trace.html)\n",
    "-   [TorchScript official\n",
    "    tutorial](https://pytorch.org/tutorials/beginner/Intro_to_TorchScript_tutorial.html)\n",
    "-   [pytorch jit intermediate\n",
    "    guide](https://residentmario.github.io/pytorch-training-performance-guide/jit.html)\n",
    "-   [pytorch jit intermediate / advanced\n",
    "    guide](https://lernapparat.de/jit-optimization-intro/)\n",
    "-   [pytorch jit advanced\n",
    "    guide](https://lernapparat.de/jit-runtime-overview)\n",
    "\n",
    "Make necessary imports"
   ]
  },
  {
   "cell_type": "code",
   "execution_count": 1,
   "id": "9105cc9c-491e-4e72-b45c-b3c1836e545b",
   "metadata": {},
   "outputs": [
    {
     "name": "stdout",
     "output_type": "stream",
     "text": [
      "Using a GPU.\n"
     ]
    }
   ],
   "source": [
    "import torch\n",
    "import numpy as np\n",
    "import math\n",
    "import pyPLNmodels\n",
    "import numpy as np\n",
    "import matplotlib.pyplot as plt\n",
    "from pyPLNmodels.models import PlnPCAcollection, Pln\n",
    "from pyPLNmodels.oaks import load_oaks"
   ]
  },
  {
   "cell_type": "markdown",
   "id": "942c5ac6-57ca-4ab7-9981-564c065755cc",
   "metadata": {},
   "source": [
    "**Note**: **We use pytorch GPU !** JIT compilation is particularly efficient on GPU. On this particular example, we were not able to see any speed up on CPU between jitted code and non-jitted code. We suppose it might be possible to get a CPU speed up on other case study, considering neural networks for example.."
   ]
  },
  {
   "cell_type": "code",
   "execution_count": 2,
   "id": "d9842d80-f868-4944-883b-2edd54647a56",
   "metadata": {},
   "outputs": [
    {
     "name": "stdout",
     "output_type": "stream",
     "text": [
      "cuda\n"
     ]
    }
   ],
   "source": [
    "device =  torch.device('cuda' if torch.cuda.is_available() else 'cpu')\n",
    "print(device)\n",
    "torch.set_default_dtype(torch.float32)\n",
    "myfloat = np.float32"
   ]
  },
  {
   "cell_type": "code",
   "execution_count": 3,
   "id": "6e254fdd-9eb3-4ab3-8c51-1b6e72617c8d",
   "metadata": {},
   "outputs": [],
   "source": [
    "oaks = load_oaks()\n",
    "Y = np.asarray(oaks['counts']).astype(myfloat)\n",
    "Y = np.repeat(Y, 100, axis=0) # make data bigger to feel the speed up\n",
    "O = np.log(oaks['offsets']).astype(myfloat)\n",
    "O = np.repeat(O, 100, axis=0) # make data bigger to feel the speed up\n",
    "X = np.ones([Y.shape[0],1]).astype(myfloat)\n",
    "\n",
    "N_iter = 5000\n",
    "lr = 1e-2"
   ]
  },
  {
   "cell_type": "markdown",
   "id": "3a7e41ad-dd47-4a87-8d23-100ab88ce29b",
   "metadata": {},
   "source": [
    "## Original non-jitted version\n",
    "\n",
    "We reuse the code from [PLN in pytorch](https://stateofther.github.io/finistR2023/torch_Python-PLN.html)."
   ]
  },
  {
   "cell_type": "code",
   "execution_count": 4,
   "id": "1f1ec464-ca03-4726-8edf-afaf06c03234",
   "metadata": {},
   "outputs": [],
   "source": [
    "def _log_stirling(integer: torch.Tensor) -> torch.Tensor:\n",
    "    integer_ = integer + (integer == 0)  # Replace 0 with 1 since 0! = 1!\n",
    "    return torch.log(torch.sqrt(2 * np.pi * integer_)) + integer_ * torch.log(integer_ / math.exp(1))\n",
    "\n",
    "class PLN:\n",
    "    Y : torch.Tensor\n",
    "    O : torch.Tensor\n",
    "    X : torch.Tensor\n",
    "    n : int\n",
    "    p : int\n",
    "    d : int\n",
    "    M : torch.Tensor\n",
    "    S : torch.Tensor\n",
    "    B : torch.Tensor\n",
    "    Sigma : torch.Tensor\n",
    "    Omega : torch.Tensor\n",
    "    device : torch.device\n",
    "\n",
    "      ## Constructor\n",
    "    def __init__(self, Y: np.array, O: np.array, X: np.array, device:\n",
    "    torch.device) : \n",
    "        self.Y = torch.tensor(Y)\n",
    "        self.Y = self.Y.to(device)\n",
    "        self.O = torch.tensor(O)\n",
    "        self.O = self.O.to(device)\n",
    "        self.X = torch.tensor(X)\n",
    "        self.X = self.X.to(device)\n",
    "        self.n, self.p = Y.shape\n",
    "        self.d = X.shape[1]\n",
    "        ## Variational parameters\n",
    "        self.M = torch.full(Y.shape, 0.0, requires_grad=True,\n",
    "            device=device)\n",
    "        self.S = torch.full(Y.shape, 1.0, requires_grad=True, device=device)\n",
    "        ## Model parameters\n",
    "        self.B = torch.zeros(self.d, self.p, requires_grad=True, device=device)\n",
    "        self.Sigma = torch.eye(self.p, device=device)\n",
    "        self.Omega = torch.eye(self.p, device=device)\n",
    "\n",
    "        self.device = device\n",
    "\n",
    "    def get_Sigma(self) :\n",
    "      return 1/self.n * (self.M.T @ self.M + torch.diag(torch.sum(self.S**2, dim = 0)))\n",
    "\n",
    "    def get_ELBO(self): \n",
    "      S2 = torch.square(self.S)\n",
    "      XB = self.X @ self.B\n",
    "      A = torch.exp(self.O + self.M + XB + S2/2)\n",
    "\n",
    "      elbo = self.n/2 * torch.logdet(self.Omega)\n",
    "      elbo += torch.sum(- A + self.Y * (self.O + self.M + XB) + .5 * torch.log(S2))\n",
    "      elbo -= .5 * torch.trace(self.M.T @ self.M + torch.diag(torch.sum(S2, dim = 0)) @ self.Omega)\n",
    "      elbo += .5 * self.n * self.p  - torch.sum(_log_stirling(self.Y))\n",
    "      return elbo\n",
    "\n",
    "    def fit(self, N_iter, lr, tol=1e-8) :\n",
    "      self.ELBO = np.zeros(N_iter, dtype=myfloat)\n",
    "      optimizer = torch.optim.Adam([self.B, self.M, self.S], lr=lr)\n",
    "      for i in range(N_iter):\n",
    "        ## reinitialize gradients\n",
    "        optimizer.zero_grad()\n",
    "\n",
    "        ## compute current ELBO\n",
    "        loss = -self.get_ELBO()\n",
    "\n",
    "        ## backward propagation and optimization\n",
    "        loss.backward()\n",
    "        optimizer.step()\n",
    "\n",
    "        ## update parameters with close form\n",
    "        self.Sigma = self.get_Sigma()\n",
    "        self.Omega = torch.inverse(self.Sigma)\n",
    "\n",
    "        objective = -loss.item()\n",
    "        self.ELBO[i] = objective"
   ]
  },
  {
   "cell_type": "markdown",
   "id": "7c3dc26a-cd06-4dcf-b053-af5c4e5ccaba",
   "metadata": {},
   "source": [
    "Let’s create the PLN object:"
   ]
  },
  {
   "cell_type": "code",
   "execution_count": 5,
   "id": "6a748599-1050-480b-87c1-a7ce2a17e052",
   "metadata": {},
   "outputs": [
    {
     "name": "stdout",
     "output_type": "stream",
     "text": [
      "CPU times: user 523 ms, sys: 67 ms, total: 590 ms\n",
      "Wall time: 134 ms\n"
     ]
    }
   ],
   "source": [
    "%%time\n",
    "myPLN = PLN(Y, O, X, device)"
   ]
  },
  {
   "cell_type": "markdown",
   "id": "f0bd3c62-14e1-4670-9888-cb93a9229ac1",
   "metadata": {},
   "source": [
    "and run the learning process:"
   ]
  },
  {
   "cell_type": "code",
   "execution_count": 6,
   "id": "23b9a64d-6892-43f2-a40c-7c57aba5a89f",
   "metadata": {},
   "outputs": [
    {
     "name": "stdout",
     "output_type": "stream",
     "text": [
      "CPU times: user 34.5 s, sys: 193 ms, total: 34.7 s\n",
      "Wall time: 35.3 s\n"
     ]
    }
   ],
   "source": [
    "%%time\n",
    "myPLN.fit(N_iter, lr = lr, tol=1e-8)"
   ]
  },
  {
   "cell_type": "markdown",
   "id": "8b340b62-5448-4265-a3a3-72d5913e0dfd",
   "metadata": {},
   "source": [
    "## Eager graph mode\n",
    "\n",
    "There are two ways to create the computational graph: **eager\n",
    "execution** and **graph execution**. The default mode in pytorch is\n",
    "**eager**, this means the computational graph is created at each forward\n",
    "pass in the graph. On the other hand, the **graph** mode adds an\n",
    "additional compilation step which builds the graph only once and lets\n",
    "the computations be done at a lower level.\n",
    "\n",
    "JIT (Just In Time) compilation is the process that builds an\n",
    "Intermediate Representation (IR) of the graph. This is the additional compilation step mentioned above.\n",
    "\n",
    "Using **graph mode**, we gain:\n",
    "\n",
    "-   efficiency since the graph is precomputed and can be optimized to\n",
    "    factorize redundant operations or delete useless operations.\n",
    "-   portability since this IR can be reused in another language.\n",
    "\n",
    "However, we lose:\n",
    "\n",
    "-   flexibility since we are tied to fixed array sizes, we cannot easily\n",
    "    use control flows, …\n",
    "\n",
    "There are two ways in pytorch to JIT our code, hence, there are two ways to use require the **graph mode**. We study these two ways in the next sections.\n",
    "\n",
    "## JIT with `torch.jit.script`\n",
    "\n",
    "By reading the above mentioned references, we get that we cannot jit the\n",
    "`fit` function. Some reasons are:\n",
    "\n",
    "-   `N_iter` is variable at compilation time (shape might change depending on input).\n",
    "-   the pytorch optimizer’s operations cannot be jitted.\n",
    "-   `torch.jit.script` cannot handle control flow or loops."
   ]
  },
  {
   "cell_type": "code",
   "execution_count": 7,
   "id": "e7a077f2-f9c0-4db4-bcff-768d3abcffe7",
   "metadata": {},
   "outputs": [],
   "source": [
    "class jitPLN(torch.jit.ScriptModule) :\n",
    "    Y : torch.Tensor\n",
    "    O : torch.Tensor\n",
    "    X : torch.Tensor\n",
    "    n : int\n",
    "    p : int\n",
    "    d : int\n",
    "    M : torch.Tensor\n",
    "    S : torch.Tensor\n",
    "    B : torch.Tensor\n",
    "    Sigma : torch.Tensor\n",
    "    Omega : torch.Tensor\n",
    "    device : torch.device\n",
    "\n",
    "      ## Constructor\n",
    "    def __init__(self, Y: np.array, O: np.array, X: np.array, device: torch.device) : \n",
    "        super().__init__()\n",
    "        self.Y = torch.tensor(Y)\n",
    "        self.Y = self.Y.to(device)\n",
    "        self.O = torch.tensor(O)\n",
    "        self.O = self.O.to(device)\n",
    "        self.X = torch.tensor(X)\n",
    "        self.X = self.X.to(device)\n",
    "        self.n, self.p = Y.shape\n",
    "        self.d = X.shape[1]\n",
    "        ## Variational parameters\n",
    "        self.M = torch.full(Y.shape, 0.0, requires_grad=True,\n",
    "            device=device)\n",
    "        self.S = torch.full(Y.shape, 1.0, requires_grad=True, device=device)\n",
    "        ## Model parameters\n",
    "        self.B = torch.zeros(self.d, self.p, requires_grad=True, device=device)\n",
    "        self.Sigma = torch.eye(self.p, device=device)\n",
    "        self.Omega = torch.eye(self.p, device=device)\n",
    "\n",
    "        self.device = device\n",
    "\n",
    "    @torch.jit.script_method\n",
    "    def _log_stirling(self, integer):\n",
    "        integer_ = integer + (integer == 0)  # Replace 0 with 1 since 0! = 1!\n",
    "        return torch.log(torch.sqrt(2 * np.pi * integer_)) + integer_ * torch.log(integer_ / math.exp(1))\n",
    "\n",
    "    @torch.jit.script_method\n",
    "    def get_Sigma(self) :\n",
    "      return 1/self.n * (self.M.T @ self.M + torch.diag(torch.sum(self.S**2, dim = 0)))\n",
    "\n",
    "    @torch.jit.script_method\n",
    "    def get_inv(self, S):\n",
    "      return torch.inverse(S)\n",
    "\n",
    "    @torch.jit.script_method\n",
    "    def get_ELBO(self): \n",
    "      S2 = torch.square(self.S)\n",
    "      XB = self.X @ self.B\n",
    "      A = torch.exp(self.O + self.M + XB + S2/2)\n",
    "\n",
    "      elbo = self.n/2 * torch.logdet(self.Omega)\n",
    "      elbo += torch.sum(- A + self.Y * (self.O + self.M + XB) + .5 * torch.log(S2))\n",
    "      elbo -= .5 * torch.trace(self.M.T @ self.M + torch.diag(torch.sum(S2, dim = 0)) @ self.Omega)\n",
    "      elbo += .5 * self.n * self.p  - torch.sum(self._log_stirling(self.Y))\n",
    "      return elbo\n",
    "\n",
    "def fit(pln, N_iter, lr, tol = 1e-8) :\n",
    "    ELBO = np.zeros(N_iter, dtype=myfloat)\n",
    "    optimizer = torch.optim.Adam([pln.B, pln.M, pln.S], lr = lr)\n",
    "\n",
    "    for i in range(N_iter):\n",
    "        ## reinitialize gradients\n",
    "        optimizer.zero_grad()\n",
    "\n",
    "        ## compute current ELBO\n",
    "        loss = - pln.get_ELBO()\n",
    "\n",
    "        ## backward propagation and optimization\n",
    "        loss.backward()\n",
    "        optimizer.step()\n",
    "\n",
    "        ## update parameters with close form\n",
    "        pln.Sigma = pln.get_Sigma()\n",
    "        pln.Omega = pln.get_inv(pln.Sigma)\n",
    "\n",
    "        objective = -loss.item()\n",
    "        ELBO[i] = objective\n",
    "        \n",
    "    return ELBO"
   ]
  },
  {
   "cell_type": "markdown",
   "id": "fa6ae0e9-ff05-42f8-81d6-84c920c3147f",
   "metadata": {},
   "source": [
    "Let’s create the jitted PLN object:"
   ]
  },
  {
   "cell_type": "code",
   "execution_count": 8,
   "id": "046fb0d7-fc63-48c2-834f-a20d8b36f7d1",
   "metadata": {},
   "outputs": [
    {
     "name": "stdout",
     "output_type": "stream",
     "text": [
      "CPU times: user 194 ms, sys: 4.8 ms, total: 199 ms\n",
      "Wall time: 19.4 ms\n"
     ]
    }
   ],
   "source": [
    "%%time\n",
    "myjitPLN = jitPLN(Y, O, X, device)"
   ]
  },
  {
   "cell_type": "markdown",
   "id": "271f866f-8e3f-4bb1-8e38-81294e8aa55d",
   "metadata": {},
   "source": [
    "and run the learning process:"
   ]
  },
  {
   "cell_type": "code",
   "execution_count": 9,
   "id": "bbfdd92d-6c8a-40f2-aff5-c34786637750",
   "metadata": {},
   "outputs": [
    {
     "name": "stderr",
     "output_type": "stream",
     "text": [
      "/home/hugo/anaconda3/envs/finistR2023/lib/python3.9/site-packages/torch/autograd/__init__.py:200: UserWarning: operator() profile_node %760 : int[] = prim::profile_ivalue(%dims.24)\n",
      " does not have profile information (Triggered internally at ../third_party/nvfuser/csrc/graph_fuser.cpp:104.)\n",
      "  Variable._execution_engine.run_backward(  # Calls into the C++ engine to run the backward pass\n"
     ]
    },
    {
     "name": "stdout",
     "output_type": "stream",
     "text": [
      "CPU times: user 27.3 s, sys: 164 ms, total: 27.4 s\n",
      "Wall time: 28.2 s\n"
     ]
    }
   ],
   "source": [
    "%%time\n",
    "scriptELBO = fit(myjitPLN, N_iter, lr = lr, tol = 1e-8)"
   ]
  },
  {
   "cell_type": "markdown",
   "id": "08eda108-e22f-4d80-aac9-8d4546abd6be",
   "metadata": {},
   "source": [
    "## JIT with `torch.jit.trace`\n",
    "\n",
    "Here we use `torch.jit.trace` over each of the computational functions, the PLN class is\n",
    "just a container for the objects. The previous limitations from `torch.jit.script` are still present, notably, we cannot jit the main `for` loop."
   ]
  },
  {
   "cell_type": "code",
   "execution_count": 10,
   "id": "5eda4e9d-75da-47d7-bdb1-649190ee9564",
   "metadata": {},
   "outputs": [],
   "source": [
    "class tracejitPLN:\n",
    "    Y : torch.Tensor\n",
    "    O : torch.Tensor\n",
    "    X : torch.Tensor\n",
    "    n : torch.Tensor\n",
    "    p : torch.Tensor\n",
    "    d : torch.Tensor\n",
    "    M : torch.Tensor\n",
    "    S : torch.Tensor\n",
    "    B : torch.Tensor\n",
    "    Sigma : torch.Tensor\n",
    "    Omega : torch.Tensor\n",
    "    device : torch.device\n",
    "\n",
    "      ## Constructor\n",
    "    def __init__(self, Y: np.array, O: np.array, X: np.array, device: torch.device) : \n",
    "        self.Y = torch.tensor(Y)\n",
    "        self.Y = self.Y.to(device)\n",
    "        self.O = torch.tensor(O)\n",
    "        self.O = self.O.to(device)\n",
    "        self.X = torch.tensor(X)\n",
    "        self.X = self.X.to(device)\n",
    "        self.n, self.p = Y.shape\n",
    "        self.n = torch.tensor(self.n)\n",
    "        self.p = torch.tensor(self.p)\n",
    "        self.d = X.shape[1]\n",
    "        ## Variational parameters\n",
    "        self.M = torch.full(Y.shape, 0.0, requires_grad=True,\n",
    "            device=device)\n",
    "        self.S = torch.full(Y.shape, 1.0, requires_grad=True, device=device)\n",
    "        ## Model parameters\n",
    "        self.B = torch.zeros(self.d, self.p, requires_grad=True, device=device)\n",
    "        self.Sigma = torch.eye(self.p, device=device)\n",
    "        self.Omega = torch.eye(self.p, device=device)\n",
    "        self.device = device"
   ]
  },
  {
   "cell_type": "markdown",
   "id": "96a8d5da-e3a0-4718-ad41-8aee5ca3c569",
   "metadata": {},
   "source": [
    "Let’s create the PLN object and the jitted functions:"
   ]
  },
  {
   "cell_type": "code",
   "execution_count": 11,
   "id": "da128ba5-e835-4bbe-98a0-5e09999f60fb",
   "metadata": {},
   "outputs": [
    {
     "name": "stdout",
     "output_type": "stream",
     "text": [
      "CPU times: user 401 ms, sys: 4.63 ms, total: 406 ms\n",
      "Wall time: 56 ms\n"
     ]
    },
    {
     "name": "stderr",
     "output_type": "stream",
     "text": [
      "/home/hugo/anaconda3/envs/finistR2023/lib/python3.9/site-packages/torch/jit/_trace.py:154: UserWarning: The .grad attribute of a Tensor that is not a leaf Tensor is being accessed. Its .grad attribute won't be populated during autograd.backward(). If you indeed want the .grad field to be populated for a non-leaf Tensor, use .retain_grad() on the non-leaf Tensor. If you access the non-leaf Tensor by mistake, make sure you access the leaf Tensor instead. See github.com/pytorch/pytorch/pull/30531 for more informations. (Triggered internally at aten/src/ATen/core/TensorBody.h:486.)\n",
      "  if a.grad is not None:\n"
     ]
    }
   ],
   "source": [
    "%%time\n",
    "mytracePLN = tracejitPLN(Y, O, X, device)\n",
    "\n",
    "def _log_stirling(integer):\n",
    "    integer_ = integer + (integer == 0)  # Replace 0 with 1 since 0! = 1!\n",
    "    return torch.log(torch.sqrt(2 * np.pi * integer_)) + integer_ * torch.log(integer_ / math.exp(1))\n",
    "\n",
    "traced_logstirling = torch.jit.trace(_log_stirling, (mytracePLN.Y))\n",
    "\n",
    "def get_ELBO(S, X, B, O, M, n, Omega, Y, p): \n",
    "    S2 = torch.square(S)\n",
    "    XB = X @ B\n",
    "    A = torch.exp(O + M + XB + S2/2)\n",
    "\n",
    "    elbo = n/2 * torch.logdet(Omega)\n",
    "    elbo += torch.sum(- A + Y * (O + M + XB) + .5 * torch.log(S2))\n",
    "    elbo -= .5 * torch.trace(M.T @ M + torch.diag(torch.sum(S2, dim = 0)) @ Omega)\n",
    "    elbo += .5 * n * p  - torch.sum(traced_logstirling(Y))\n",
    "    return elbo\n",
    "\n",
    "traced_getELBO = torch.jit.trace(get_ELBO, (mytracePLN.S, mytracePLN.X, mytracePLN.B, mytracePLN.O, mytracePLN.M,\n",
    "    mytracePLN.n, mytracePLN.Omega, mytracePLN.Y, mytracePLN.p))\n",
    "\n",
    "def get_Sigma(n, M, S) :\n",
    "    return 1/n * (M.T @ M + torch.diag(torch.sum(S**2, dim = 0)))\n",
    "\n",
    "traced_getSigma = torch.jit.trace(get_Sigma, (mytracePLN.n, mytracePLN.M, mytracePLN.S))\n",
    "\n",
    "def get_inv(S):\n",
    "    return torch.inverse(S)\n",
    "\n",
    "traced_getInv = torch.jit.trace(get_inv, get_Sigma(mytracePLN.n, mytracePLN.M, mytracePLN.S))"
   ]
  },
  {
   "cell_type": "code",
   "execution_count": 12,
   "id": "a1529410-123e-419a-8ee3-5d98002342c4",
   "metadata": {},
   "outputs": [],
   "source": [
    "def tracefit(pln, N_iter, lr, tol = 1e-8) :\n",
    "\n",
    "    ELBO = np.zeros(N_iter, dtype=myfloat)\n",
    "    optimizer = torch.optim.Adam([pln.B, pln.M, pln.S], lr = lr)\n",
    "\n",
    "    for i in range(N_iter):\n",
    "        ## reinitialize gradients\n",
    "        optimizer.zero_grad()\n",
    "\n",
    "        ## compute current ELBO\n",
    "        loss = -traced_getELBO(pln.S, pln.X, pln.B, pln.O, pln.M,\n",
    "            pln.n, pln.Omega, pln.Y, pln.p)\n",
    "\n",
    "        ## backward propagation and optimization\n",
    "        loss.backward()\n",
    "        optimizer.step()\n",
    "\n",
    "        ## update parameters with close form\n",
    "        pln.Sigma = traced_getSigma(pln.n, pln.M, pln.S)\n",
    "        pln.Omega = traced_getInv(pln.Sigma)\n",
    "\n",
    "        objective = -loss.item()\n",
    "        ELBO[i] = objective\n",
    "        \n",
    "    return ELBO"
   ]
  },
  {
   "cell_type": "markdown",
   "id": "ba71cfee-b2cf-48e8-ae22-b386911d9bc6",
   "metadata": {},
   "source": [
    "and run the learning process:"
   ]
  },
  {
   "cell_type": "code",
   "execution_count": 13,
   "id": "59f38807-0813-45e3-a64d-2ce9b5d70bad",
   "metadata": {},
   "outputs": [
    {
     "name": "stdout",
     "output_type": "stream",
     "text": [
      "CPU times: user 25.6 s, sys: 171 ms, total: 25.8 s\n",
      "Wall time: 26.5 s\n"
     ]
    }
   ],
   "source": [
    "%%time\n",
    "traceELBO = tracefit(mytracePLN, N_iter, lr = lr, tol = 1e-8)"
   ]
  },
  {
   "cell_type": "markdown",
   "id": "3ea43f76-fe28-48f0-876d-a96fee1e1e6f",
   "metadata": {},
   "source": [
    "## Conclusion\n",
    "\n",
    "We check that we get the same results with each method:"
   ]
  },
  {
   "cell_type": "code",
   "execution_count": 14,
   "id": "a373eb82-aada-4731-986f-3766168326e4",
   "metadata": {},
   "outputs": [
    {
     "data": {
      "image/png": "[encoded data removed]",
      "text/plain": [
       "<Figure size 640x480 with 1 Axes>"
      ]
     },
     "metadata": {},
     "output_type": "display_data"
    }
   ],
   "source": [
    "plt.plot(np.log(-myPLN.ELBO), label='NO jit')\n",
    "plt.plot(np.log(-scriptELBO), label='jit script')\n",
    "plt.plot(np.log(-traceELBO), label='jit trace')\n",
    "plt.legend()\n",
    "plt.show()"
   ]
  },
  {
   "cell_type": "markdown",
   "id": "109e90d0-669c-4139-aa11-e8f5d2c8c200",
   "metadata": {},
   "source": [
    "- We see that jit script and jit trace reduce computation time by a few second over the\n",
    "non jitted code. Hence, jit compilation in\n",
    "pytorch can be interesting but induces strict limitations that the user\n",
    "must be aware of.\n",
    "\n",
    "- We should try to consider a more involved problem computationally\n",
    "speaking (bigger input data, computations involving neural networks, …)"
   ]
  }
 ],
 "metadata": {
  "kernelspec": {
   "display_name": "Python 3 (ipykernel)",
   "language": "python",
   "name": "python3"
  },
  "language_info": {
   "codemirror_mode": {
    "name": "ipython",
    "version": 3
   },
   "file_extension": ".py",
   "mimetype": "text/x-python",
   "name": "python",
   "nbconvert_exporter": "python",
   "pygments_lexer": "ipython3",
   "version": "3.9.17"
  }
 },
 "nbformat": 4,
 "nbformat_minor": 5
}
