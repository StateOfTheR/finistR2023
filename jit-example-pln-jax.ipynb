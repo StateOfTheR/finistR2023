{
 "cells": [
  {
   "cell_type": "markdown",
   "id": "4056e632-6640-450d-8e0f-f16b424a8cec",
   "metadata": {},
   "source": [
    "# FinistR : bootcamp R à Roscoff"
   ]
  },
  {
   "cell_type": "markdown",
   "id": "31d1bceb-0415-44f3-b75b-2d0f81e3f9a6",
   "metadata": {},
   "source": [
    "## jit with JAX"
   ]
  },
  {
   "cell_type": "markdown",
   "id": "ffd0991c-6ef8-4bb7-a974-b38c9b1df709",
   "metadata": {},
   "source": [
    "Make the necessary imports"
   ]
  },
  {
   "cell_type": "code",
   "execution_count": 1,
   "id": "35c14c1d-d801-447f-8375-78fffbd65fec",
   "metadata": {},
   "outputs": [],
   "source": [
    "import os\n",
    "#os.environ['CUDA_VISIBLE_DEVICES'] = '' # uncomment to force CPU"
   ]
  },
  {
   "cell_type": "code",
   "execution_count": 2,
   "id": "a7a692fa-521d-4488-bb3c-7b5921da782a",
   "metadata": {},
   "outputs": [],
   "source": [
    "import numpy as np\n",
    "import math\n",
    "import pyPLNmodels\n",
    "import numpy as np\n",
    "import matplotlib.pyplot as plt\n",
    "from pyPLNmodels.models import PlnPCAcollection, Pln\n",
    "from pyPLNmodels.oaks import load_oaks"
   ]
  },
  {
   "cell_type": "code",
   "execution_count": 3,
   "id": "146a9584-e099-45be-acff-e6a0a4cbf518",
   "metadata": {},
   "outputs": [
    {
     "name": "stdout",
     "output_type": "stream",
     "text": [
      "[gpu(id=0)]\n"
     ]
    }
   ],
   "source": [
    "import jax\n",
    "import jax.numpy as jnp\n",
    "import optax\n",
    "jax.config.update(\"jax_enable_x64\", False)\n",
    "print(jax.devices())\n",
    "myfloat = np.float32"
   ]
  },
  {
   "cell_type": "code",
   "execution_count": 4,
   "id": "570dd0ec-5916-48db-b86a-3f03422c24e1",
   "metadata": {},
   "outputs": [],
   "source": [
    "oaks = load_oaks()\n",
    "Y = np.asarray(oaks['counts']).astype(myfloat)\n",
    "Y = np.repeat(Y, 100, axis=0) # make data bigger to feel the speed up\n",
    "O = np.log(oaks['offsets']).astype(myfloat)\n",
    "O = np.repeat(O, 100, axis=0) # make data bigger to feel the speed up\n",
    "X = np.ones([Y.shape[0],1]).astype(myfloat)\n",
    "\n",
    "N_iter = 5000\n",
    "lr = 1e-4"
   ]
  },
  {
   "cell_type": "markdown",
   "id": "6c86dda3-2b04-4a78-a858-592d2dee7674",
   "metadata": {},
   "source": [
    "### JAX without JIT"
   ]
  },
  {
   "cell_type": "code",
   "execution_count": null,
   "id": "d6d91eb0-1354-42ab-b514-f5ff336a95da",
   "metadata": {},
   "outputs": [],
   "source": []
  },
  {
   "cell_type": "markdown",
   "id": "e705cd52-72d5-4adb-be8c-473b308d55b5",
   "metadata": {},
   "source": [
    "### JIT with JAX level 1"
   ]
  },
  {
   "cell_type": "markdown",
   "id": "4ead6c16-d951-48c1-943a-cd76b985ee6f",
   "metadata": {},
   "source": [
    "Without class method. Without scan function"
   ]
  },
  {
   "cell_type": "code",
   "execution_count": 5,
   "id": "5307021b-5159-4727-b3d7-9c1c53843c7a",
   "metadata": {},
   "outputs": [],
   "source": [
    "def init_params(Y, O, X): \n",
    "    n, p = Y.shape\n",
    "    d = X.shape[1]\n",
    "    ## Variational parameters\n",
    "    M = jnp.full(Y.shape, 0.0)\n",
    "    S = jnp.full(Y.shape, 1.0)\n",
    "    ## Model parameters\n",
    "    B = jnp.zeros((d, p))\n",
    "    Sigma = jnp.eye(p)\n",
    "    Omega = jnp.eye(p)\n",
    "\n",
    "    return n, p, d, M, S, B, Sigma, Omega"
   ]
  },
  {
   "cell_type": "markdown",
   "id": "5cfd17c7-4381-45cb-96ff-8df3d75104a8",
   "metadata": {},
   "source": [
    "Let's create the jitted functions. Note that `_log_stirling` will be automatically jitted when called the jitted `get_ELBO`. The actual _just in time_ compilation will actually happen at the first execution of the jitted function. Note that the call `jax.jit()` is equivalent to using the decorator `@jax.jit`"
   ]
  },
  {
   "cell_type": "code",
   "execution_count": 6,
   "id": "d6f555ff-c562-4624-8801-41fd2397a2da",
   "metadata": {},
   "outputs": [],
   "source": [
    "def _log_stirling(integer):\n",
    "    integer_ = integer + (integer == 0)\n",
    "    return jnp.log(jnp.sqrt(2 * jnp.pi * integer_)) + integer_ * jnp.log(integer_ / jnp.exp(1))\n",
    "    \n",
    "def get_ELBO(optim_params, other_params): \n",
    "    B, M, S = optim_params['B'], optim_params['M'], optim_params['S']\n",
    "    X, O, n, Omega, Y, p = (other_params['X'], other_params['O'], \n",
    "        other_params['n'], other_params['Omega'], other_params['Y'],\n",
    "        other_params['p'])\n",
    "    S2 = jnp.square(S)\n",
    "    XB = X @ B\n",
    "    A = jnp.exp(O + M + XB + S2/2)\n",
    "\n",
    "    elbo = 0.\n",
    "    elbo = n / 2 * jnp.log(jnp.linalg.det(Omega))\n",
    "    elbo += jnp.sum(- A + Y * (O + M + XB) + .5 * jnp.log(S2))\n",
    "    elbo -= .5 * jnp.trace(M.T @ M + jnp.diag(jnp.sum(S2, axis = 0)) @ Omega)\n",
    "    elbo += .5 * n * p  - jnp.sum(_log_stirling(Y))\n",
    "    return -elbo\n",
    "\n",
    "jit_loss_and_grad = jax.jit(jax.value_and_grad(get_ELBO, 0)) # JIT !\n",
    "\n",
    "def get_Sigma(n, M, S) :\n",
    "    return 1/n * (M.T @ M + jnp.diag(jnp.sum(S**2, axis = 0)))\n",
    "\n",
    "jit_getSigma = jax.jit(get_Sigma) # JIT !\n",
    "\n",
    "jit_inv = jax.jit(jnp.linalg.inv) # JIT !"
   ]
  },
  {
   "cell_type": "markdown",
   "id": "5edaee77-7a3f-41d8-902f-d66d3b77f8f3",
   "metadata": {},
   "source": [
    "In the following, each function inside the for loop is jitted but the for loop\n",
    "is not jitted itself; it is very inefficient to do so in JAX."
   ]
  },
  {
   "cell_type": "code",
   "execution_count": 7,
   "id": "50ecdfe3-4035-42a7-b556-cc9b4d793ee8",
   "metadata": {},
   "outputs": [],
   "source": [
    "def jaxfit1(optim_params, other_params, N_iter, lr, tol = 1e-8) :\n",
    "    ELBO = jnp.zeros(N_iter)\n",
    "    optimizer = optax.chain(\n",
    "        #adam(learning_rate=lr)\n",
    "        optax.scale_by_radam(),\n",
    "        optax.scale(-1.0),\n",
    "        optax.clip(0.1),\n",
    "    )\n",
    "    opt_state = optimizer.init(optim_params)\n",
    "    objective0 = jnp.inf\n",
    "\n",
    "    update = jax.jit(optimizer.update)\n",
    "    apply_updates = jax.jit(optax.apply_updates)\n",
    "\n",
    "    for i in range(N_iter):\n",
    "        loss_value, grads = jit_loss_and_grad(\n",
    "            optim_params,\n",
    "            other_params\n",
    "        )\n",
    "\n",
    "        updates, opt_state = update(grads, opt_state, optim_params)\n",
    "        optim_params = apply_updates(optim_params, updates)\n",
    "\n",
    "        ## update parameters with close form\n",
    "        other_params['Sigma'] = jit_getSigma(other_params['n'], optim_params['M'],\n",
    "        optim_params['S'])\n",
    "        other_params['Omega'] = jit_inv(other_params['Sigma'])\n",
    "\n",
    "        objective = loss_value\n",
    "        ELBO = ELBO.at[i].set(objective)\n",
    "    \n",
    "        #if (abs(objective0 - objective)/abs(objective) < tol):\n",
    "        #    ELBO = ELBO[0:i]\n",
    "        #    break\n",
    "        #else:\n",
    "        #    objective0 = objective\n",
    "\n",
    "    return ELBO"
   ]
  },
  {
   "cell_type": "markdown",
   "id": "350fb0ae-3d2f-4729-8d97-80994ae7cdee",
   "metadata": {},
   "source": [
    "Initialize the data for JAX"
   ]
  },
  {
   "cell_type": "code",
   "execution_count": 8,
   "id": "bf550788-0ffb-4a04-993d-142eb04dea66",
   "metadata": {},
   "outputs": [],
   "source": [
    "Y = jnp.asarray(Y)\n",
    "O = jnp.asarray(O)\n",
    "X = jnp.array(X)\n",
    "n, p, d, M, S, B, Sigma, Omega = init_params(Y, O, X)\n",
    "optim_params = {'B':B, 'M':M, 'S':S}\n",
    "other_params = {'X':X, 'O':O, 'n':n, 'Omega':Omega, 'Y':Y, 'p':p, 'Sigma':Sigma}"
   ]
  },
  {
   "cell_type": "markdown",
   "id": "90c915b5-e2ce-4a34-8a1a-af9db31c59e2",
   "metadata": {},
   "source": [
    "and run the learning process:"
   ]
  },
  {
   "cell_type": "code",
   "execution_count": 9,
   "id": "549f88cc-55ea-43e0-bb2c-1dcd69bb8f9d",
   "metadata": {},
   "outputs": [
    {
     "name": "stdout",
     "output_type": "stream",
     "text": [
      "CPU times: user 17.2 s, sys: 1.12 s, total: 18.3 s\n",
      "Wall time: 17.1 s\n"
     ]
    }
   ],
   "source": [
    "%%time\n",
    "jaxELBO1 = jax.block_until_ready(\n",
    "    jaxfit1(optim_params, other_params, N_iter, lr=lr, tol=1e-8)\n",
    ")"
   ]
  },
  {
   "cell_type": "markdown",
   "id": "882cc6f9-9742-4ed2-949b-f4fd4e03c88d",
   "metadata": {},
   "source": [
    "__NOTE__ Benchmarking JAX:\n",
    "[https://jax.readthedocs.io/en/latest/async_dispatch.html](https://jax.readthedocs.io/en/latest/async_dispatch.html)"
   ]
  },
  {
   "cell_type": "markdown",
   "id": "e2dd5f54-1bd4-406e-9b6d-fceda04a4986",
   "metadata": {},
   "source": [
    "### JIT with JAX level 2"
   ]
  },
  {
   "cell_type": "markdown",
   "id": "1f11e6b9-9641-4f27-bed9-657212fbad12",
   "metadata": {},
   "source": [
    "Add the scan function, which is the way to optimize for loops in JAX.\n",
    "scan() compiles f, so while it can be combined with jit(), it’s usually unnecessary."
   ]
  },
  {
   "cell_type": "code",
   "execution_count": 10,
   "id": "2452c60f-2748-4743-ab56-4fc637d5115c",
   "metadata": {},
   "outputs": [],
   "source": [
    "def jaxfit2(optim_params, other_params, N_iter, lr, tol = 1e-8) :\n",
    "    optimizer = optax.chain(\n",
    "        #adam(learning_rate=lr)\n",
    "        optax.scale_by_radam(),\n",
    "        optax.scale(-1.0),\n",
    "        optax.clip(0.1),\n",
    "    )\n",
    "    opt_state = optimizer.init(optim_params)\n",
    "    \n",
    "    def scan_fun(carry, _):\n",
    "        optim_params = carry['optim_params']\n",
    "        other_params = carry['other_params']\n",
    "        loss_value, grads = jax.value_and_grad(get_ELBO)(optim_params,\n",
    "        other_params)\n",
    "    \n",
    "        updates, opt_state = optimizer.update(grads, carry['opt_state'])\n",
    "        optim_params = optax.apply_updates(optim_params, updates)\n",
    "    \n",
    "        ## update parameters with close form\n",
    "        other_params['Sigma'] = get_Sigma(other_params['n'], optim_params['M'],\n",
    "        optim_params['S'])\n",
    "        other_params['Omega'] = jnp.linalg.inv(other_params['Sigma'])\n",
    "    \n",
    "        carry['optim_params'] = optim_params\n",
    "        carry['other_params'] = other_params\n",
    "        carry['opt_state'] = opt_state\n",
    "        return carry, loss_value\n",
    "\n",
    "    \n",
    "    carry, ELBO = jax.lax.scan(\n",
    "        scan_fun,\n",
    "        {\n",
    "            \"optim_params\":optim_params,\n",
    "            \"other_params\":other_params,\n",
    "            'opt_state':opt_state\n",
    "        },\n",
    "        jnp.arange(N_iter)\n",
    "    )\n",
    "\n",
    "    return ELBO"
   ]
  },
  {
   "cell_type": "markdown",
   "id": "25c103d0-6d8b-4099-b9e3-57b3478f1630",
   "metadata": {},
   "source": [
    "Initialize the data for JAX:"
   ]
  },
  {
   "cell_type": "code",
   "execution_count": 11,
   "id": "402d8997-3c76-4176-b496-531b4af8c567",
   "metadata": {},
   "outputs": [],
   "source": [
    "Y = jnp.asarray(Y)\n",
    "O = jnp.asarray(O)\n",
    "X = jnp.array(X)\n",
    "n, p, d, M, S, B, Sigma, Omega = init_params(Y, O, X)\n",
    "optim_params = {'B':B, 'M':M, 'S':S}\n",
    "other_params = {'X':X, 'O':O, 'n':n, 'Omega':Omega, 'Y':Y, 'p':p, 'Sigma':Sigma}"
   ]
  },
  {
   "cell_type": "markdown",
   "id": "8ccd9619-d192-45ca-8c45-b07859bf4f7a",
   "metadata": {},
   "source": [
    "__SIDE NOTE__: Perform the Ahead Of Time (AOT) where the compilation is done before hand in a particular explicit step and not at the first execution of the function (JIT). By doing so we can get an estimate of the compilation time."
   ]
  },
  {
   "cell_type": "code",
   "execution_count": 12,
   "id": "6d046ba4-99ad-44a2-a74a-e56856b34e4b",
   "metadata": {},
   "outputs": [
    {
     "name": "stdout",
     "output_type": "stream",
     "text": [
      "CPU times: user 732 ms, sys: 33 ms, total: 765 ms\n",
      "Wall time: 513 ms\n"
     ]
    }
   ],
   "source": [
    "%%time\n",
    "lowered = jax.jit(jaxfit2, static_argnums=(2,3,4)).lower(optim_params,\n",
    "other_params, N_iter, lr=lr, tol=1e-8)\n",
    "compiled = lowered.compile()"
   ]
  },
  {
   "cell_type": "markdown",
   "id": "cf7c3c94-2291-4eba-ad32-aa5b81c23632",
   "metadata": {},
   "source": [
    "Let's run the complete fit (including compilation)"
   ]
  },
  {
   "cell_type": "code",
   "execution_count": 13,
   "id": "cc684410-91e3-4e91-b4ee-6bb784b8bd41",
   "metadata": {},
   "outputs": [
    {
     "name": "stdout",
     "output_type": "stream",
     "text": [
      "CPU times: user 15.3 s, sys: 1.23 ms, total: 15.3 s\n",
      "Wall time: 15 s\n"
     ]
    }
   ],
   "source": [
    "%%time\n",
    "jaxELBO2 = jax.block_until_ready(\n",
    "    jaxfit2(optim_params, other_params, N_iter, lr, tol=1e-8)\n",
    ")"
   ]
  },
  {
   "cell_type": "markdown",
   "id": "cc7ed2ca-ca9d-4b85-ae27-774f91921955",
   "metadata": {},
   "source": [
    "### JIT with JAX level 3"
   ]
  },
  {
   "cell_type": "markdown",
   "id": "d929e407-98da-481e-af93-9ea6121e0595",
   "metadata": {},
   "source": [
    "Now we will dive into some of the sharp bits of JAX. Let's try to reuse the above jitted functions with a simple PLN `class` which acts like a container as we did in the _JIT with pytorch_ tutorial."
   ]
  },
  {
   "cell_type": "code",
   "execution_count": 14,
   "id": "32220f2c-30b3-4533-85fb-3b52c9b52dbb",
   "metadata": {},
   "outputs": [],
   "source": [
    "class PLN_container:\n",
    "    def __init__(self, Y, O, X): \n",
    "        self.Y = Y\n",
    "        self.O = O\n",
    "        self.X = X\n",
    "        self.n, self.p = Y.shape\n",
    "        self.n = self.n\n",
    "        self.p = self.p\n",
    "        self.d = X.shape[1]\n",
    "        ## Variational parameters\n",
    "        self.M = jnp.full(Y.shape, 0.0)\n",
    "        self.S = jnp.full(Y.shape, 1.0)\n",
    "        ## Model parameters\n",
    "        self.B = jnp.zeros((self.d, self.p))\n",
    "        self.Sigma = jnp.eye(self.p)\n",
    "        self.Omega = jnp.eye(self.p)"
   ]
  },
  {
   "cell_type": "markdown",
   "id": "8482744b-31f0-4ebc-9055-f595ea6808b9",
   "metadata": {},
   "source": [
    "Then we would like to adapt the `scan_fun` as:"
   ]
  },
  {
   "cell_type": "code",
   "execution_count": 15,
   "id": "0fd7b8c0-3f28-485d-aab8-432b835fdf06",
   "metadata": {},
   "outputs": [],
   "source": [
    "def jaxfit3(pln, N_iter, lr, tol = 1e-8) :\n",
    "    optimizer = optax.chain(\n",
    "        #adam(learning_rate=lr)\n",
    "        optax.scale_by_radam(),\n",
    "        optax.scale(-1.0),\n",
    "        optax.clip(0.1),\n",
    "    )\n",
    "    opt_state = optimizer.init({'B':pln.B, 'M':pln.M, 'S':pln.S})\n",
    "\n",
    "    def scan_fun(carry, _):\n",
    "        pln = carry['PLN']\n",
    "        loss_value, grads = jax.value_and_grad(get_ELBO)(\n",
    "            {'B':pln.B, 'M':pln.M, 'S':pln.S},\n",
    "            {'X':pln.X, 'O':pln.O, 'n':pln.n, 'Omega':pln.Omega,\n",
    "             'Y':pln.Y, 'p':pln.p, 'Sigma':pln.Sigma}\n",
    "        )\n",
    "    \n",
    "        updates, opt_state = optimizer.update(grads, carry['opt_state'])\n",
    "        updated_params = optax.apply_updates(\n",
    "            {'B':pln.B, 'M':pln.M, 'S':pln.S},\n",
    "            updates)\n",
    "        pln.B = updated_params['B']\n",
    "        pln.M = updated_params['M']\n",
    "        pln.S = updated_params['S']\n",
    "    \n",
    "        ## update parameters with close form\n",
    "        pln.Sigma = get_Sigma(pln.N, pln.M, pln.S)\n",
    "        pln.Omega = jnp.linalg.inv(pln.Sigma)\n",
    "    \n",
    "        carry['PLN'] = pln\n",
    "        carry['opt_state'] = opt_state\n",
    "        return carry, loss_value\n",
    "    \n",
    "    carry, ELBO = jax.lax.scan(\n",
    "        scan_fun,\n",
    "        {\n",
    "            \"PLN\":pln,\n",
    "            'opt_state':opt_state\n",
    "        },\n",
    "        jnp.arange(N_iter)\n",
    "    )\n",
    "\n",
    "    return ELBO"
   ]
  },
  {
   "cell_type": "code",
   "execution_count": null,
   "id": "103af0d7-a25d-45d5-aa89-f8785c304984",
   "metadata": {},
   "outputs": [],
   "source": []
  },
  {
   "cell_type": "markdown",
   "id": "9152d57d-95f0-470f-8f1c-d1dcdd50894c",
   "metadata": {},
   "source": [
    "```{python}\n",
    "pln_container = PLN_container(Y, O, X)\n",
    "jaxELBO3 = jax.block_until_ready(\n",
    "    jaxfit3(pln_container, N_iter, lr, tol=1e-8)\n",
    ")\n",
    "```"
   ]
  },
  {
   "cell_type": "markdown",
   "id": "8b999685-6e19-4c59-90d3-52cc48f297c1",
   "metadata": {},
   "source": [
    "If we run the previous lines, we get an expected error: `class PLN is not a valid JAX type`. Recall that the `scan` loop automatically jits its content and we cannot it function whose arguments are custom classes without specific treatment that we will discover in the next subsection. For the moment, as the class PLN acts as a simple container, a common work around is to use a Python native `namedtuple` class ? \n",
    "\n",
    "See this introduction to `namedtuple`: [https://realpython.com/python-namedtuple/](https://realpython.com/python-namedtuple/)"
   ]
  },
  {
   "cell_type": "code",
   "execution_count": 16,
   "id": "5dba1b03-12d6-4ade-8ecd-ae6c89920001",
   "metadata": {},
   "outputs": [],
   "source": [
    "from collections import namedtuple\n",
    "\n",
    "PLN = namedtuple(\"PLN\", \"Y O X n p d M S B Sigma Omega\")\n",
    "pln_namedtuple = PLN(\n",
    "    Y, O, X,\n",
    "    Y.shape[0], Y.shape[1], X.shape[1],\n",
    "    jnp.full(Y.shape, 0.0), jnp.full(Y.shape, 1.0),\n",
    "    jnp.zeros((X.shape[1], Y.shape[1])), jnp.eye(Y.shape[1]),\n",
    "    jnp.eye(Y.shape[1]))"
   ]
  },
  {
   "cell_type": "markdown",
   "id": "f6a385f8-4f5a-4f4a-a1da-fb1e0f79306d",
   "metadata": {},
   "source": [
    "Let's adapt the `scan_fun` function"
   ]
  },
  {
   "cell_type": "code",
   "execution_count": 17,
   "id": "41a092c8-6809-4b14-983d-b082d9a32c1f",
   "metadata": {},
   "outputs": [],
   "source": [
    "def jaxfit3(pln, N_iter, lr, tol = 1e-8) :\n",
    "    optimizer = optax.chain(\n",
    "        #adam(learning_rate=lr)\n",
    "        optax.scale_by_radam(),\n",
    "        optax.scale(-1.0),\n",
    "        optax.clip(0.1),\n",
    "    )\n",
    "    opt_state = optimizer.init({'B':pln.B, 'M':pln.M, 'S':pln.S})\n",
    "\n",
    "    def scan_fun(carry, _):\n",
    "        pln = carry['PLN']\n",
    "        loss_value, grads = jax.value_and_grad(get_ELBO)(\n",
    "            {'B':pln.B, 'M':pln.M, 'S':pln.S},\n",
    "            {'X':pln.X, 'O':pln.O, 'n':pln.n, 'Omega':pln.Omega,\n",
    "             'Y':pln.Y, 'p':pln.p, 'Sigma':pln.Sigma}\n",
    "        )\n",
    "    \n",
    "        updates, opt_state = optimizer.update(grads, carry['opt_state'])\n",
    "        updated_params = optax.apply_updates(\n",
    "            {'B':pln.B, 'M':pln.M, 'S':pln.S},\n",
    "            updates)\n",
    "        pln = pln._replace(B=updated_params['B'])\n",
    "        pln = pln._replace(M=updated_params['M'])\n",
    "        pln = pln._replace(S=updated_params['S'])\n",
    "    \n",
    "    \n",
    "        ## update parameters with close form\n",
    "        pln = pln._replace(Sigma=get_Sigma(pln.n, pln.M, pln.S))\n",
    "        pln = pln._replace(Omega=jnp.linalg.inv(pln.Sigma))\n",
    "    \n",
    "        carry['PLN'] = pln\n",
    "        carry['opt_state'] = opt_state\n",
    "        return carry, loss_value\n",
    " \n",
    "    carry, ELBO = jax.lax.scan(\n",
    "        scan_fun,\n",
    "        {\n",
    "            \"PLN\":pln,\n",
    "            'opt_state':opt_state\n",
    "        },\n",
    "        jnp.arange(N_iter)\n",
    "    )\n",
    "\n",
    "    return ELBO"
   ]
  },
  {
   "cell_type": "code",
   "execution_count": 18,
   "id": "b0872a11-7d6f-4a03-b061-2664eeeb4e03",
   "metadata": {},
   "outputs": [
    {
     "name": "stdout",
     "output_type": "stream",
     "text": [
      "CPU times: user 15.3 s, sys: 8.45 ms, total: 15.3 s\n",
      "Wall time: 15 s\n"
     ]
    }
   ],
   "source": [
    "%%time\n",
    "jaxELBO3 = jax.block_until_ready(\n",
    "    jaxfit3(pln_namedtuple, N_iter, lr, tol=1e-8)\n",
    ")"
   ]
  },
  {
   "cell_type": "markdown",
   "id": "f20d9780-e348-4888-9aee-88401e14bee8",
   "metadata": {},
   "source": [
    "Ok, our code works but it is getting a little bit messy: we would like more than containers but real classes, with real methods! That's what we will see in the next section."
   ]
  },
  {
   "cell_type": "markdown",
   "id": "a99d2558-29fe-4b40-afb9-c3711cfd4be9",
   "metadata": {},
   "source": [
    "### JIT with JAX level 3.5\n",
    "`dataclasses` as upgraded `namedtuple`"
   ]
  },
  {
   "cell_type": "markdown",
   "id": "b43b0530-261a-49ea-9980-10b8df2fcf6c",
   "metadata": {},
   "source": [
    "### JIT with JAX level 4\n",
    "JAX requires the jitted functions to be pure, they cannot have any side effect."
   ]
  },
  {
   "cell_type": "code",
   "execution_count": 19,
   "id": "c7beb6be-fa55-4a42-8bc8-fb02454dc033",
   "metadata": {},
   "outputs": [],
   "source": [
    "from jax.tree_util import register_pytree_node_class\n",
    "\n",
    "@register_pytree_node_class\n",
    "class PLN:\n",
    "    def __init__(self, Y, O, X): \n",
    "        self.Y = Y\n",
    "        self.O = O\n",
    "        self.X = X\n",
    "        self.n, self.p = Y.shape\n",
    "        self.n = self.n\n",
    "        self.p = self.p\n",
    "        self.d = X.shape[1]\n",
    "        ## Variational parameters\n",
    "        self.M = jnp.full(Y.shape, 0.0)\n",
    "        self.S = jnp.full(Y.shape, 1.0)\n",
    "        ## Model parameters\n",
    "        self.B = jnp.zeros((self.d, self.p))\n",
    "        self.Sigma = jnp.eye(self.p)\n",
    "        self.Omega = jnp.eye(self.p)\n",
    "\n",
    "    def get_optim_params(self):\n",
    "        return {'B':self.B, 'M':self.M, 'S':self.S}\n",
    "        \n",
    "    def set_optim_params(self, op):\n",
    "        for k, v in op.items():\n",
    "            vars(self)[k] = v\n",
    "\n",
    "    def get_other_params(self):\n",
    "        return {\n",
    "            'X':self.X, 'O':self.O, 'n':self.n, 'Omega':self.Omega,\n",
    "            'Y':self.Y, 'p':self.p, 'Sigma':self.Sigma\n",
    "        }\n",
    "        \n",
    "    def set_other_params(self, op):\n",
    "        for k, v in op.items():\n",
    "            vars(self)[k] = v\n",
    "\n",
    "    def update_Sigma(self):\n",
    "        pln.Sigma = 1 / self.n * (self.M.T @ self.M + jnp.diag(jnp.sum(self.S ** 2, axis = 0)))\n",
    "\n",
    "    def update_Omega(self):\n",
    "        pln.Omega = jnp.linalg.inv(self.Sigma)\n",
    "\n",
    "    def tree_flatten(self):\n",
    "        children = (\n",
    "            self.B, self.M, self.S, self.Sigma, self.Omega,\n",
    "        )  # arrays / dynamic values\n",
    "        aux_data = {\n",
    "            'Y':self.Y, 'O':self.O, 'X':self.X,\n",
    "            'n':self.n, 'p':self.p, 'd':self.d\n",
    "        }  # static values\n",
    "        return (children, aux_data)\n",
    "\n",
    "    @classmethod\n",
    "    def tree_unflatten(cls, aux_data, children):\n",
    "        (B, M, S, Sigma, Omega) = children\n",
    "        obj = cls(\n",
    "            aux_data['Y'], aux_data['O'], aux_data['X']\n",
    "        )\n",
    "        obj.B = B\n",
    "        obj.M = M\n",
    "        obj.S = S\n",
    "        return obj"
   ]
  },
  {
   "cell_type": "markdown",
   "id": "8782f509-3b4a-4f5a-8cda-ff6fa8dffa54",
   "metadata": {},
   "source": [
    "Let's adapt the `scan_fun` function, we are now free to use our new class methods"
   ]
  },
  {
   "cell_type": "code",
   "execution_count": 20,
   "id": "b6672daf-f385-4899-82f6-778f5aa6134d",
   "metadata": {},
   "outputs": [],
   "source": [
    "def jaxfit4(pln, N_iter, lr, tol = 1e-8) :\n",
    "    optimizer = optax.chain(\n",
    "        #adam(learning_rate=lr)\n",
    "        optax.scale_by_radam(),\n",
    "        optax.scale(-1.0),\n",
    "        optax.clip(0.1),\n",
    "    )\n",
    "    opt_state = optimizer.init(pln.get_optim_params())\n",
    "\n",
    "    def scan_fun(carry, k):\n",
    "        pln = carry['PLN']\n",
    "        loss_value, grads = jax.value_and_grad(get_ELBO)(\n",
    "            pln.get_optim_params(),\n",
    "            pln.get_other_params()\n",
    "        )\n",
    "    \n",
    "        updates, opt_state = optimizer.update(grads, carry['opt_state'])\n",
    "        optim_params = optax.apply_updates(\n",
    "            pln.get_optim_params(),\n",
    "            updates\n",
    "        )\n",
    "        pln.set_optim_params(optim_params)\n",
    "    \n",
    "        ## update parameters with close form\n",
    "        pln.update_Sigma()\n",
    "        pln.update_Omega()\n",
    "    \n",
    "        carry['PLN'] = pln\n",
    "        carry['opt_state'] = opt_state\n",
    "        return carry, loss_value\n",
    " \n",
    "    carry, ELBO = jax.lax.scan(\n",
    "        scan_fun,\n",
    "        {\n",
    "            \"PLN\":pln,\n",
    "            'opt_state':opt_state\n",
    "        },\n",
    "        jnp.arange(N_iter)\n",
    "    )\n",
    "\n",
    "    return ELBO"
   ]
  },
  {
   "cell_type": "code",
   "execution_count": 21,
   "id": "a8568fbf-173b-4d08-9bda-fcee5966abbe",
   "metadata": {},
   "outputs": [
    {
     "name": "stdout",
     "output_type": "stream",
     "text": [
      "CPU times: user 18.2 s, sys: 46 ms, total: 18.3 s\n",
      "Wall time: 15 s\n"
     ]
    }
   ],
   "source": [
    "%%time\n",
    "pln = PLN(Y, O, X)\n",
    "jaxELBO4 = jax.block_until_ready(\n",
    "    jaxfit4(pln, N_iter, lr, tol=1e-8)\n",
    ")"
   ]
  },
  {
   "cell_type": "markdown",
   "id": "949a28de-76ba-4721-ab7c-022e311aafed",
   "metadata": {},
   "source": [
    "## Conclusion"
   ]
  },
  {
   "cell_type": "markdown",
   "id": "90cba7fa-862b-4268-b8ea-87fba86f8dbb",
   "metadata": {},
   "source": [
    "We check the results"
   ]
  },
  {
   "cell_type": "code",
   "execution_count": 22,
   "id": "0be5ef9c-6830-4a08-ab44-01ca71773fba",
   "metadata": {},
   "outputs": [
    {
     "name": "stderr",
     "output_type": "stream",
     "text": [
      "/tmp/ipykernel_14463/2644513083.py:1: RuntimeWarning: invalid value encountered in log\n",
      "  plt.plot(np.log(jaxELBO1), label='jit level 1')\n",
      "/tmp/ipykernel_14463/2644513083.py:2: RuntimeWarning: invalid value encountered in log\n",
      "  plt.plot(np.log(jaxELBO2), label='jit level 2')\n",
      "/tmp/ipykernel_14463/2644513083.py:3: RuntimeWarning: invalid value encountered in log\n",
      "  plt.plot(np.log(jaxELBO3), label='jit level 3')\n"
     ]
    },
    {
     "data": {
      "image/png": "[encoded data removed]",
      "text/plain": [
       "<Figure size 640x480 with 1 Axes>"
      ]
     },
     "metadata": {},
     "output_type": "display_data"
    }
   ],
   "source": [
    "plt.plot(np.log(jaxELBO1), label='jit level 1')\n",
    "plt.plot(np.log(jaxELBO2), label='jit level 2')\n",
    "plt.plot(np.log(jaxELBO3), label='jit level 3')\n",
    "plt.plot(np.log(jaxELBO4), label='jit level 4')\n",
    "plt.legend()\n",
    "plt.show()"
   ]
  },
  {
   "cell_type": "markdown",
   "id": "2538caeb-51f7-4709-9fe2-ccce8823d6a9",
   "metadata": {},
   "source": [
    "- Jitting a class is more involved in JAX than with pytorch, the best performances require some specific JAX knowledge that we exposed in each subsection of this document.\n",
    "- When jitting with JAX we fall back on the same difficulties as when jitting with pytorch trace.\n",
    "- However, JAX offers clear ways to overcome the difficulties that pytorch tracing does not offer (scan, static_argnums, pytrees, ...)\n",
    "- In this particular example on **GPU**, **jitted JAX can perform twice as fast as jitted pytorch**. But in this particular example on **CPU**, JAX is slower than pytorch. This is what we can often read online: JAX is particularly suited for GPU optimization. We need to test JAX on other examples involving neural networks, mini-batches, etc. in order to understand JAX potential on CPU optimization too.\n"
   ]
  },
  {
   "cell_type": "code",
   "execution_count": null,
   "id": "8e734ee4-d289-4a90-be70-49c6b9888180",
   "metadata": {},
   "outputs": [],
   "source": []
  }
 ],
 "metadata": {
  "kernelspec": {
   "display_name": "Python 3 (ipykernel)",
   "language": "python",
   "name": "python3"
  },
  "language_info": {
   "codemirror_mode": {
    "name": "ipython",
    "version": 3
   },
   "file_extension": ".py",
   "mimetype": "text/x-python",
   "name": "python",
   "nbconvert_exporter": "python",
   "pygments_lexer": "ipython3",
   "version": "3.9.17"
  }
 },
 "nbformat": 4,
 "nbformat_minor": 5
}
