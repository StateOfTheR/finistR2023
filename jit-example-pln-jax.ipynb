{
 "cells": [
  {
   "cell_type": "markdown",
   "id": "4056e632-6640-450d-8e0f-f16b424a8cec",
   "metadata": {},
   "source": [
    "# FinistR : bootcamp R à Roscoff"
   ]
  },
  {
   "cell_type": "markdown",
   "id": "52ac98d9-d91e-4019-897a-a2304e7d8fcf",
   "metadata": {},
   "source": [
    "JAX is a Python library, basically a wrapper around numpy for efficient scientific programming: automatic differentiation, parallelization, JIT, etc. Many numpy functions are rewritten in a low level API called LAX. It then uses the XLA compiler to opitmization computations, see [https://jax.readthedocs.io/en/latest/notebooks/thinking_in_jax.html#numpy-lax-xla-jax-api-layering](https://jax.readthedocs.io/en/latest/notebooks/thinking_in_jax.html#numpy-lax-xla-jax-api-layering) "
   ]
  },
  {
   "cell_type": "markdown",
   "id": "31d1bceb-0415-44f3-b75b-2d0f81e3f9a6",
   "metadata": {},
   "source": [
    "## JIT with JAX"
   ]
  },
  {
   "cell_type": "markdown",
   "id": "13797785-16b5-4390-bc6c-83147d8d2ca4",
   "metadata": {},
   "source": [
    "A practical definition of JIT compilation can be found in [JAX documentation](https://jax.readthedocs.io/en/latest/index.html):\n",
    "\n",
    "_When we jit-compile a function, we usually want to compile a version of the function that works for many different argument values, so that we can cache and reuse the compiled code. That way we don’t have to re-compile on each function evaluation._\n",
    "\n",
    "_For example, if we evaluate an `@jit` function on the array `jnp.array([1., 2., 3.], jnp.float32)`, we might want to compile code that we can reuse to evaluate the function on `jnp.array([4., 5., 6.], jnp.float32)` to save on compile time._\n",
    "\n",
    "_By default JAX executes operations one at a time, in sequence. Using a just-in-time (JIT) compilation decorator, sequences of operations can be optimized together and run at once._\n",
    "\n",
    "**In this tutorial we explore JAX JIT compilation on the same algorithm of the PLN model** as coded in [https://stateofther.github.io/finistR2023/torch_Python-PLN.html](https://stateofther.github.io/finistR2023/torch_Python-PLN.html).\n",
    "\n",
    "This tutorial is to be compared with [JIT compilation in pytorch](https://stateofther.github.io/finistR2023/jit-example-pln.html)"
   ]
  },
  {
   "cell_type": "markdown",
   "id": "ffd0991c-6ef8-4bb7-a974-b38c9b1df709",
   "metadata": {},
   "source": [
    "First, we make the necessary imports"
   ]
  },
  {
   "cell_type": "code",
   "execution_count": 1,
   "id": "35c14c1d-d801-447f-8375-78fffbd65fec",
   "metadata": {},
   "outputs": [],
   "source": [
    "import os\n",
    "#os.environ['CUDA_VISIBLE_DEVICES'] = '' # uncomment to force CPU"
   ]
  },
  {
   "cell_type": "code",
   "execution_count": 2,
   "id": "a7a692fa-521d-4488-bb3c-7b5921da782a",
   "metadata": {},
   "outputs": [],
   "source": [
    "import numpy as np\n",
    "import math\n",
    "import pyPLNmodels\n",
    "import numpy as np\n",
    "import matplotlib.pyplot as plt\n",
    "from pyPLNmodels.models import PlnPCAcollection, Pln\n",
    "from pyPLNmodels.oaks import load_oaks"
   ]
  },
  {
   "cell_type": "code",
   "execution_count": 3,
   "id": "146a9584-e099-45be-acff-e6a0a4cbf518",
   "metadata": {},
   "outputs": [
    {
     "name": "stdout",
     "output_type": "stream",
     "text": [
      "[gpu(id=0)]\n"
     ]
    }
   ],
   "source": [
    "import jax\n",
    "import jax.numpy as jnp\n",
    "import optax\n",
    "jax.config.update(\"jax_enable_x64\", False)\n",
    "print(jax.devices())\n",
    "myfloat = np.float32"
   ]
  },
  {
   "cell_type": "code",
   "execution_count": 4,
   "id": "570dd0ec-5916-48db-b86a-3f03422c24e1",
   "metadata": {},
   "outputs": [],
   "source": [
    "oaks = load_oaks()\n",
    "Y = np.asarray(oaks['counts']).astype(myfloat)\n",
    "Y = np.repeat(Y, 100, axis=0) # make data bigger to feel the speed up\n",
    "O = np.log(oaks['offsets']).astype(myfloat)\n",
    "O = np.repeat(O, 100, axis=0) # make data bigger to feel the speed up\n",
    "X = np.ones([Y.shape[0],1]).astype(myfloat)\n",
    "\n",
    "N_iter = 5000\n",
    "lr = 1e-4"
   ]
  },
  {
   "cell_type": "markdown",
   "id": "6c86dda3-2b04-4a78-a858-592d2dee7674",
   "metadata": {},
   "source": [
    "### JAX without JIT\n",
    "This section does not use any kind of jitting. This is our baseline."
   ]
  },
  {
   "cell_type": "code",
   "execution_count": 5,
   "id": "58ef40bb-a938-4fa4-ac53-5c6b7d52784d",
   "metadata": {},
   "outputs": [],
   "source": [
    "def _log_stirling(integer):\n",
    "    integer_ = integer + (integer == 0)  # Replace 0 with 1 since 0! = 1!\n",
    "    return jnp.log(jnp.sqrt(2 * jnp.pi * integer_)) + integer_ * jnp.log(integer_ / jnp.exp(1))\n",
    "\n",
    "class PLN_no_jit:\n",
    "    def __init__(self, Y, O, X): \n",
    "        self.Y = Y\n",
    "        self.O = O\n",
    "        self.X = X\n",
    "        self.n, self.p = Y.shape\n",
    "        self.d = X.shape[1]\n",
    "        ## Variational parameters\n",
    "        self.M = jnp.full(Y.shape, 0.0)\n",
    "        self.S = jnp.full(Y.shape, 1.0)\n",
    "        ## Model parameters\n",
    "        self.B = jnp.zeros((self.d, self.p))\n",
    "        self.Sigma = jnp.eye(self.p)\n",
    "        self.Omega = jnp.eye(self.p)\n",
    "\n",
    "    def get_Sigma(self, n, M, S) :\n",
    "        return 1/n * (M.T @ M + jnp.diag(jnp.sum(S**2, axis=0)))\n",
    "    \n",
    "    def get_ELBO(self, optim_params):\n",
    "      B, M, S = optim_params\n",
    "      S2 = jnp.square(S)\n",
    "      XB = self.X @ B\n",
    "      A = jnp.exp(self.O + M + XB + S2/2)\n",
    "\n",
    "      elbo = self.n/2 * jnp.log(jnp.linalg.det(self.Omega))\n",
    "      elbo += jnp.sum(- A + self.Y * (self.O + M + XB) + .5 * jnp.log(S2))\n",
    "      elbo -= .5 * jnp.trace(M.T @ M + jnp.diag(jnp.sum(S2, axis=0)) @ self.Omega)\n",
    "      elbo += .5 * self.n * self.p  - jnp.sum(_log_stirling(self.Y))\n",
    "      return -elbo\n",
    "\n",
    "    def fit(self, N_iter, lr, tol = 1e-8) :\n",
    "        ELBO = jnp.zeros(N_iter)\n",
    "        optimizer = optax.adam(learning_rate=lr)#optax.chain(\n",
    "            #adam(learning_rate=lr)\n",
    "        #     optax.scale_by_radam(),\n",
    "        #     optax.scale(-1.0),\n",
    "        #     optax.clip(0.1),\n",
    "        # )\n",
    "        opt_state = optimizer.init((self.B, self.M, self.S))\n",
    "        \n",
    "        for i in range(N_iter):\n",
    "            loss_value, grads = jax.value_and_grad(\n",
    "                self.get_ELBO, 0\n",
    "            )((self.B, self.M, self.S))\n",
    "    \n",
    "            updates, opt_state = optimizer.update(grads, opt_state, (self.B, self.M, self.S))\n",
    "            # optim_params = optax.apply_updates((self.B, self.M, self.S), updates)\n",
    "            # self.B, self.M, self.S = optim_params\n",
    "    \n",
    "            ## update parameters with close form\n",
    "            self.Sigma = self.get_Sigma(self.n, self.M, self.S)\n",
    "            self.Omega = jnp.linalg.inv(self.Sigma)\n",
    "    \n",
    "            objective = loss_value\n",
    "            ELBO = ELBO.at[i].set(objective)\n",
    "        \n",
    "        return ELBO"
   ]
  },
  {
   "cell_type": "markdown",
   "id": "6aebf9f2-a55c-4423-8742-1d9d885f6744",
   "metadata": {},
   "source": [
    "Have a look a the way we update the ELBO vector in the previous functions. This is because JAX arrays are immutable [https://jax.readthedocs.io/en/latest/notebooks/Common_Gotchas_in_JAX.html#in-place-updates](https://jax.readthedocs.io/en/latest/notebooks/Common_Gotchas_in_JAX.html#in-place-updates)"
   ]
  },
  {
   "cell_type": "code",
   "execution_count": 6,
   "id": "887fc6b2-e1ae-4318-9c06-64c85a01aac4",
   "metadata": {},
   "outputs": [
    {
     "name": "stdout",
     "output_type": "stream",
     "text": [
      "CPU times: user 57min 23s, sys: 1h 47min 22s, total: 2h 44min 45s\n",
      "Wall time: 10min 23s\n"
     ]
    }
   ],
   "source": [
    "%%time\n",
    "pln = PLN_no_jit(Y, O, X)\n",
    "\n",
    "with jax.default_device(jax.devices('cpu')[0]): # as opposed to the subsequent jitted versions of the code, running this code do\n",
    "    jaxELBO_no_jit = jax.block_until_ready(\n",
    "        pln.fit(N_iter, lr, tol=1e-8)\n",
    "    )"
   ]
  },
  {
   "cell_type": "markdown",
   "id": "e705cd52-72d5-4adb-be8c-473b308d55b5",
   "metadata": {},
   "source": [
    "### JIT with JAX level 1: `jax.jit`"
   ]
  },
  {
   "cell_type": "markdown",
   "id": "4ead6c16-d951-48c1-943a-cd76b985ee6f",
   "metadata": {},
   "source": [
    "In this section, we will jit the functions used in the optimization process. Since it is not straightforward to JIT compilation class methods (see subsequent section), we will not use a class anymore. \n",
    "\n",
    "Thus, we first create an independant function to initialize variables."
   ]
  },
  {
   "cell_type": "code",
   "execution_count": 7,
   "id": "5307021b-5159-4727-b3d7-9c1c53843c7a",
   "metadata": {},
   "outputs": [],
   "source": [
    "def init_params(Y, O, X): \n",
    "    n, p = Y.shape\n",
    "    d = X.shape[1]\n",
    "    ## Variational parameters\n",
    "    M = jnp.full(Y.shape, 0.0)\n",
    "    S = jnp.full(Y.shape, 1.0)\n",
    "    ## Model parameters\n",
    "    B = jnp.zeros((d, p))\n",
    "    Sigma = jnp.eye(p)\n",
    "    Omega = jnp.eye(p)\n",
    "\n",
    "    return n, p, d, M, S, B, Sigma, Omega"
   ]
  },
  {
   "cell_type": "markdown",
   "id": "5cfd17c7-4381-45cb-96ff-8df3d75104a8",
   "metadata": {},
   "source": [
    "Let's create the jitted functions. Note that `_log_stirling` will be automatically jitted when called the jitted `get_ELBO`. The actual _Just In Time_ compilation will actually happen at the first execution of the jitted function. Note that the call `jax.jit()` is equivalent to using the decorator `@jax.jit`"
   ]
  },
  {
   "cell_type": "code",
   "execution_count": 8,
   "id": "d6f555ff-c562-4624-8801-41fd2397a2da",
   "metadata": {},
   "outputs": [],
   "source": [
    "def _log_stirling(integer):\n",
    "    integer_ = integer + (integer == 0)\n",
    "    return jnp.log(jnp.sqrt(2 * jnp.pi * integer_)) + integer_ * jnp.log(integer_ / jnp.exp(1))\n",
    "    \n",
    "def get_ELBO(optim_params, other_params): \n",
    "    B, M, S = optim_params['B'], optim_params['M'], optim_params['S']\n",
    "    X, O, n, Omega, Y, p = (other_params['X'], other_params['O'], \n",
    "        other_params['n'], other_params['Omega'], other_params['Y'],\n",
    "        other_params['p'])\n",
    "    S2 = jnp.square(S)\n",
    "    XB = X @ B\n",
    "    A = jnp.exp(O + M + XB + S2/2)\n",
    "\n",
    "    elbo = 0.\n",
    "    elbo = n / 2 * jnp.log(jnp.linalg.det(Omega))\n",
    "    elbo += jnp.sum(- A + Y * (O + M + XB) + .5 * jnp.log(S2))\n",
    "    elbo -= .5 * jnp.trace(M.T @ M + jnp.diag(jnp.sum(S2, axis = 0)) @ Omega)\n",
    "    elbo += .5 * n * p  - jnp.sum(_log_stirling(Y))\n",
    "    return -elbo\n",
    "\n",
    "jit_loss_and_grad = jax.jit(jax.value_and_grad(get_ELBO, 0)) # JIT !\n",
    "\n",
    "def get_Sigma(n, M, S) :\n",
    "    return 1/n * (M.T @ M + jnp.diag(jnp.sum(S**2, axis = 0)))\n",
    "\n",
    "jit_getSigma = jax.jit(get_Sigma) # JIT !\n",
    "\n",
    "jit_inv = jax.jit(jnp.linalg.inv) # JIT !"
   ]
  },
  {
   "cell_type": "markdown",
   "id": "5edaee77-7a3f-41d8-902f-d66d3b77f8f3",
   "metadata": {},
   "source": [
    "In the following, each function inside the for loop is jitted but the for loop\n",
    "is not jitted itself; it is inefficient to do so in JAX mostly due to the long compilation time it would induce, see [https://jax.readthedocs.io/en/latest/faq.html#jit-decorated-function-is-very-slow-to-compile](https://jax.readthedocs.io/en/latest/faq.html#jit-decorated-function-is-very-slow-to-compile)."
   ]
  },
  {
   "cell_type": "code",
   "execution_count": 9,
   "id": "50ecdfe3-4035-42a7-b556-cc9b4d793ee8",
   "metadata": {},
   "outputs": [],
   "source": [
    "def jaxfit1(optim_params, other_params, N_iter, lr, tol = 1e-8) :\n",
    "    ELBO = jnp.zeros(N_iter)\n",
    "    optimizer = optax.chain(\n",
    "        #adam(learning_rate=lr)\n",
    "        optax.scale_by_radam(),\n",
    "        optax.scale(-1.0),\n",
    "        optax.clip(0.1),\n",
    "    )\n",
    "    opt_state = optimizer.init(optim_params)\n",
    "    objective0 = jnp.inf\n",
    "\n",
    "    update = jax.jit(optimizer.update)\n",
    "    apply_updates = jax.jit(optax.apply_updates)\n",
    "\n",
    "    for i in range(N_iter):\n",
    "        loss_value, grads = jit_loss_and_grad(\n",
    "            optim_params,\n",
    "            other_params\n",
    "        )\n",
    "\n",
    "        updates, opt_state = update(grads, opt_state, optim_params)\n",
    "        optim_params = apply_updates(optim_params, updates)\n",
    "\n",
    "        ## update parameters with close form\n",
    "        other_params['Sigma'] = jit_getSigma(other_params['n'], optim_params['M'],\n",
    "        optim_params['S'])\n",
    "        other_params['Omega'] = jit_inv(other_params['Sigma'])\n",
    "\n",
    "        objective = loss_value\n",
    "        ELBO = ELBO.at[i].set(objective)\n",
    "\n",
    "    return ELBO"
   ]
  },
  {
   "cell_type": "markdown",
   "id": "350fb0ae-3d2f-4729-8d97-80994ae7cdee",
   "metadata": {},
   "source": [
    "Initialize the data for JAX"
   ]
  },
  {
   "cell_type": "code",
   "execution_count": 10,
   "id": "bf550788-0ffb-4a04-993d-142eb04dea66",
   "metadata": {},
   "outputs": [],
   "source": [
    "Y = jnp.asarray(Y)\n",
    "O = jnp.asarray(O)\n",
    "X = jnp.array(X)\n",
    "n, p, d, M, S, B, Sigma, Omega = init_params(Y, O, X)\n",
    "optim_params = {'B':B, 'M':M, 'S':S}\n",
    "other_params = {'X':X, 'O':O, 'n':n, 'Omega':Omega, 'Y':Y, 'p':p, 'Sigma':Sigma}"
   ]
  },
  {
   "cell_type": "markdown",
   "id": "90c915b5-e2ce-4a34-8a1a-af9db31c59e2",
   "metadata": {},
   "source": [
    "and run the learning process:"
   ]
  },
  {
   "cell_type": "code",
   "execution_count": 11,
   "id": "549f88cc-55ea-43e0-bb2c-1dcd69bb8f9d",
   "metadata": {},
   "outputs": [
    {
     "name": "stdout",
     "output_type": "stream",
     "text": [
      "CPU times: user 16.9 s, sys: 1.15 s, total: 18.1 s\n",
      "Wall time: 16.9 s\n"
     ]
    }
   ],
   "source": [
    "%%time\n",
    "jaxELBO1 = jax.block_until_ready(\n",
    "    jaxfit1(optim_params, other_params, N_iter, lr=lr, tol=1e-8)\n",
    ")"
   ]
  },
  {
   "cell_type": "markdown",
   "id": "882cc6f9-9742-4ed2-949b-f4fd4e03c88d",
   "metadata": {},
   "source": [
    "__NOTE__ Benchmarking JAX:\n",
    "[https://jax.readthedocs.io/en/latest/async_dispatch.html](https://jax.readthedocs.io/en/latest/async_dispatch.html)"
   ]
  },
  {
   "cell_type": "markdown",
   "id": "e2dd5f54-1bd4-406e-9b6d-fceda04a4986",
   "metadata": {},
   "source": [
    "### JIT with JAX level 2: `jax.lax.scan`"
   ]
  },
  {
   "cell_type": "markdown",
   "id": "1f11e6b9-9641-4f27-bed9-657212fbad12",
   "metadata": {},
   "source": [
    "In this section, we add resort to `jax.lax.scan`, which is the standard way to write `for` loops in JAX.\n",
    "`jax.lax.scan` automatically JIT compiles its content, it’s not necessary to add the calls to `jax.jit` here.\n",
    "\n",
    "For a complete tutorial on `jax.lax.scan` see [https://ericmjl.github.io/dl-workshop/02-jax-idioms/02-loopy-carry.html](https://ericmjl.github.io/dl-workshop/02-jax-idioms/02-loopy-carry.html)"
   ]
  },
  {
   "cell_type": "code",
   "execution_count": 12,
   "id": "2452c60f-2748-4743-ab56-4fc637d5115c",
   "metadata": {},
   "outputs": [],
   "source": [
    "def jaxfit2(optim_params, other_params, N_iter, lr, tol = 1e-8) :\n",
    "    optimizer = optax.chain(\n",
    "        #adam(learning_rate=lr)\n",
    "        optax.scale_by_radam(),\n",
    "        optax.scale(-1.0),\n",
    "        optax.clip(0.1),\n",
    "    )\n",
    "    opt_state = optimizer.init(optim_params)\n",
    "    \n",
    "    def scan_fun(carry, _):\n",
    "        optim_params = carry['optim_params']\n",
    "        other_params = carry['other_params']\n",
    "        loss_value, grads = jax.value_and_grad(get_ELBO)(optim_params,\n",
    "        other_params)\n",
    "    \n",
    "        updates, opt_state = optimizer.update(grads, carry['opt_state'])\n",
    "        optim_params = optax.apply_updates(optim_params, updates)\n",
    "    \n",
    "        ## update parameters with close form\n",
    "        other_params['Sigma'] = get_Sigma(other_params['n'], optim_params['M'],\n",
    "        optim_params['S'])\n",
    "        other_params['Omega'] = jnp.linalg.inv(other_params['Sigma'])\n",
    "    \n",
    "        carry['optim_params'] = optim_params\n",
    "        carry['other_params'] = other_params\n",
    "        carry['opt_state'] = opt_state\n",
    "        return carry, loss_value\n",
    "\n",
    "    \n",
    "    carry, ELBO = jax.lax.scan(\n",
    "        scan_fun,\n",
    "        {\n",
    "            \"optim_params\":optim_params,\n",
    "            \"other_params\":other_params,\n",
    "            'opt_state':opt_state\n",
    "        },\n",
    "        jnp.arange(N_iter)\n",
    "    )\n",
    "\n",
    "    return ELBO"
   ]
  },
  {
   "cell_type": "markdown",
   "id": "25c103d0-6d8b-4099-b9e3-57b3478f1630",
   "metadata": {},
   "source": [
    "Initialize the data for JAX:"
   ]
  },
  {
   "cell_type": "code",
   "execution_count": 13,
   "id": "402d8997-3c76-4176-b496-531b4af8c567",
   "metadata": {},
   "outputs": [],
   "source": [
    "Y = jnp.asarray(Y)\n",
    "O = jnp.asarray(O)\n",
    "X = jnp.array(X)\n",
    "n, p, d, M, S, B, Sigma, Omega = init_params(Y, O, X)\n",
    "optim_params = {'B':B, 'M':M, 'S':S}\n",
    "other_params = {'X':X, 'O':O, 'n':n, 'Omega':Omega, 'Y':Y, 'p':p, 'Sigma':Sigma}"
   ]
  },
  {
   "cell_type": "markdown",
   "id": "8ccd9619-d192-45ca-8c45-b07859bf4f7a",
   "metadata": {},
   "source": [
    "__SIDE NOTE__: Perform the Ahead Of Time (AOT) where the compilation is done beforehand in a particular explicit step and not at the first execution of the function (as in classical JIT compilation). By doing so we can get an estimate of the compilation time, which is, in our case, not a bottleneck."
   ]
  },
  {
   "cell_type": "code",
   "execution_count": 14,
   "id": "6d046ba4-99ad-44a2-a74a-e56856b34e4b",
   "metadata": {},
   "outputs": [
    {
     "name": "stdout",
     "output_type": "stream",
     "text": [
      "CPU times: user 741 ms, sys: 27.6 ms, total: 769 ms\n",
      "Wall time: 510 ms\n"
     ]
    }
   ],
   "source": [
    "%%time\n",
    "lowered = jax.jit(jaxfit2, static_argnums=(2,3,4)).lower(optim_params,\n",
    "other_params, N_iter, lr=lr, tol=1e-8)\n",
    "compiled = lowered.compile()"
   ]
  },
  {
   "cell_type": "markdown",
   "id": "cf7c3c94-2291-4eba-ad32-aa5b81c23632",
   "metadata": {},
   "source": [
    "Let's run the complete fit (including compilation)"
   ]
  },
  {
   "cell_type": "code",
   "execution_count": 15,
   "id": "cc684410-91e3-4e91-b4ee-6bb784b8bd41",
   "metadata": {},
   "outputs": [
    {
     "name": "stdout",
     "output_type": "stream",
     "text": [
      "CPU times: user 15 s, sys: 44.7 ms, total: 15.1 s\n",
      "Wall time: 14.8 s\n"
     ]
    }
   ],
   "source": [
    "%%time\n",
    "jaxELBO2 = jax.block_until_ready(\n",
    "    jaxfit2(optim_params, other_params, N_iter, lr, tol=1e-8)\n",
    ")"
   ]
  },
  {
   "cell_type": "markdown",
   "id": "cc7ed2ca-ca9d-4b85-ae27-774f91921955",
   "metadata": {},
   "source": [
    "### JIT with JAX level 3: can we jit everything? "
   ]
  },
  {
   "cell_type": "markdown",
   "id": "d929e407-98da-481e-af93-9ea6121e0595",
   "metadata": {},
   "source": [
    "Now we will dive into some of the sharp bits of JAX. Let's try to reuse the above jitted functions with a simple PLN `class` which acts like a container as we did in the tutorial [JIT compilation in pytorch](https://stateofther.github.io/finistR2023/jit-example-pln.html)."
   ]
  },
  {
   "cell_type": "code",
   "execution_count": 16,
   "id": "32220f2c-30b3-4533-85fb-3b52c9b52dbb",
   "metadata": {},
   "outputs": [],
   "source": [
    "class PLN_container:\n",
    "    def __init__(self, Y, O, X): \n",
    "        self.Y = Y\n",
    "        self.O = O\n",
    "        self.X = X\n",
    "        self.n, self.p = Y.shape\n",
    "        self.n = self.n\n",
    "        self.p = self.p\n",
    "        self.d = X.shape[1]\n",
    "        ## Variational parameters\n",
    "        self.M = jnp.full(Y.shape, 0.0)\n",
    "        self.S = jnp.full(Y.shape, 1.0)\n",
    "        ## Model parameters\n",
    "        self.B = jnp.zeros((self.d, self.p))\n",
    "        self.Sigma = jnp.eye(self.p)\n",
    "        self.Omega = jnp.eye(self.p)"
   ]
  },
  {
   "cell_type": "markdown",
   "id": "8482744b-31f0-4ebc-9055-f595ea6808b9",
   "metadata": {},
   "source": [
    "Then we would like to adapt the `scan_fun` as:"
   ]
  },
  {
   "cell_type": "code",
   "execution_count": 17,
   "id": "0fd7b8c0-3f28-485d-aab8-432b835fdf06",
   "metadata": {},
   "outputs": [],
   "source": [
    "def jaxfit3(pln, N_iter, lr, tol = 1e-8) :\n",
    "    optimizer = optax.chain(\n",
    "        #adam(learning_rate=lr)\n",
    "        optax.scale_by_radam(),\n",
    "        optax.scale(-1.0),\n",
    "        optax.clip(0.1),\n",
    "    )\n",
    "    opt_state = optimizer.init({'B':pln.B, 'M':pln.M, 'S':pln.S})\n",
    "\n",
    "    def scan_fun(carry, _):\n",
    "        pln = carry['PLN']\n",
    "        loss_value, grads = jax.value_and_grad(get_ELBO)(\n",
    "            {'B':pln.B, 'M':pln.M, 'S':pln.S},\n",
    "            {'X':pln.X, 'O':pln.O, 'n':pln.n, 'Omega':pln.Omega,\n",
    "             'Y':pln.Y, 'p':pln.p, 'Sigma':pln.Sigma}\n",
    "        )\n",
    "    \n",
    "        updates, opt_state = optimizer.update(grads, carry['opt_state'])\n",
    "        updated_params = optax.apply_updates(\n",
    "            {'B':pln.B, 'M':pln.M, 'S':pln.S},\n",
    "            updates)\n",
    "        pln.B = updated_params['B']\n",
    "        pln.M = updated_params['M']\n",
    "        pln.S = updated_params['S']\n",
    "    \n",
    "        ## update parameters with close form\n",
    "        pln.Sigma = get_Sigma(pln.N, pln.M, pln.S)\n",
    "        pln.Omega = jnp.linalg.inv(pln.Sigma)\n",
    "    \n",
    "        carry['PLN'] = pln\n",
    "        carry['opt_state'] = opt_state\n",
    "        return carry, loss_value\n",
    "    \n",
    "    carry, ELBO = jax.lax.scan(\n",
    "        scan_fun,\n",
    "        {\n",
    "            \"PLN\":pln,\n",
    "            'opt_state':opt_state\n",
    "        },\n",
    "        jnp.arange(N_iter)\n",
    "    )\n",
    "\n",
    "    return ELBO"
   ]
  },
  {
   "cell_type": "markdown",
   "id": "c8638618-8f2b-4a75-b3ab-a4027f3621ce",
   "metadata": {},
   "source": [
    "And finally, we would like to start the optimization with:"
   ]
  },
  {
   "cell_type": "markdown",
   "id": "9152d57d-95f0-470f-8f1c-d1dcdd50894c",
   "metadata": {},
   "source": [
    "```{python}\n",
    "pln_container = PLN_container(Y, O, X)\n",
    "jaxELBO3 = jax.block_until_ready(\n",
    "    jaxfit3(pln_container, N_iter, lr, tol=1e-8)\n",
    ")\n",
    "```"
   ]
  },
  {
   "cell_type": "markdown",
   "id": "8b999685-6e19-4c59-90d3-52cc48f297c1",
   "metadata": {},
   "source": [
    "If we run the previous lines, we get an expected error: `class PLN is not a valid JAX type`. Recall that the `scan` loop automatically JIT compiles its content and we cannot JIT compile function whose arguments are custom classes without specific treatment that we will discover in the next subsection. For the moment, as the class PLN acts as a simple container, a common work around can be to use a Python native `namedtuple` class:\n",
    "\n",
    "See this introduction to `namedtuple`: [https://realpython.com/python-namedtuple/](https://realpython.com/python-namedtuple/)"
   ]
  },
  {
   "cell_type": "code",
   "execution_count": 18,
   "id": "5dba1b03-12d6-4ade-8ecd-ae6c89920001",
   "metadata": {},
   "outputs": [],
   "source": [
    "from collections import namedtuple\n",
    "\n",
    "PLN = namedtuple(\"PLN\", \"Y O X n p d M S B Sigma Omega\")\n",
    "pln_namedtuple = PLN(\n",
    "    Y, O, X,\n",
    "    Y.shape[0], Y.shape[1], X.shape[1],\n",
    "    jnp.full(Y.shape, 0.0), jnp.full(Y.shape, 1.0),\n",
    "    jnp.zeros((X.shape[1], Y.shape[1])), jnp.eye(Y.shape[1]),\n",
    "    jnp.eye(Y.shape[1]))"
   ]
  },
  {
   "cell_type": "markdown",
   "id": "f6a385f8-4f5a-4f4a-a1da-fb1e0f79306d",
   "metadata": {},
   "source": [
    "Let's adapt the `scan_fun` function"
   ]
  },
  {
   "cell_type": "code",
   "execution_count": 19,
   "id": "41a092c8-6809-4b14-983d-b082d9a32c1f",
   "metadata": {},
   "outputs": [],
   "source": [
    "def jaxfit3(pln, N_iter, lr, tol = 1e-8) :\n",
    "    optimizer = optax.chain(\n",
    "        #adam(learning_rate=lr)\n",
    "        optax.scale_by_radam(),\n",
    "        optax.scale(-1.0),\n",
    "        optax.clip(0.1),\n",
    "    )\n",
    "    opt_state = optimizer.init({'B':pln.B, 'M':pln.M, 'S':pln.S})\n",
    "\n",
    "    def scan_fun(carry, _):\n",
    "        pln = carry['PLN']\n",
    "        loss_value, grads = jax.value_and_grad(get_ELBO)(\n",
    "            {'B':pln.B, 'M':pln.M, 'S':pln.S},\n",
    "            {'X':pln.X, 'O':pln.O, 'n':pln.n, 'Omega':pln.Omega,\n",
    "             'Y':pln.Y, 'p':pln.p, 'Sigma':pln.Sigma}\n",
    "        )\n",
    "    \n",
    "        updates, opt_state = optimizer.update(grads, carry['opt_state'])\n",
    "        updated_params = optax.apply_updates(\n",
    "            {'B':pln.B, 'M':pln.M, 'S':pln.S},\n",
    "            updates)\n",
    "        pln = pln._replace(B=updated_params['B'])\n",
    "        pln = pln._replace(M=updated_params['M'])\n",
    "        pln = pln._replace(S=updated_params['S'])\n",
    "    \n",
    "    \n",
    "        ## update parameters with close form\n",
    "        pln = pln._replace(Sigma=get_Sigma(pln.n, pln.M, pln.S))\n",
    "        pln = pln._replace(Omega=jnp.linalg.inv(pln.Sigma))\n",
    "    \n",
    "        carry['PLN'] = pln\n",
    "        carry['opt_state'] = opt_state\n",
    "        return carry, loss_value\n",
    " \n",
    "    carry, ELBO = jax.lax.scan(\n",
    "        scan_fun,\n",
    "        {\n",
    "            \"PLN\":pln,\n",
    "            'opt_state':opt_state\n",
    "        },\n",
    "        jnp.arange(N_iter)\n",
    "    )\n",
    "\n",
    "    return ELBO"
   ]
  },
  {
   "cell_type": "code",
   "execution_count": 20,
   "id": "b0872a11-7d6f-4a03-b061-2664eeeb4e03",
   "metadata": {},
   "outputs": [
    {
     "name": "stdout",
     "output_type": "stream",
     "text": [
      "CPU times: user 15.3 s, sys: 46.8 ms, total: 15.4 s\n",
      "Wall time: 15 s\n"
     ]
    }
   ],
   "source": [
    "%%time\n",
    "jaxELBO3 = jax.block_until_ready(\n",
    "    jaxfit3(pln_namedtuple, N_iter, lr, tol=1e-8)\n",
    ")"
   ]
  },
  {
   "cell_type": "markdown",
   "id": "f20d9780-e348-4888-9aee-88401e14bee8",
   "metadata": {},
   "source": [
    "Ok, our code works but it is getting a little bit messy: we would like more than containers but real classes, with real methods! That's what we will see in the next section. But before, let's try to summarize the main points of jitting functions with JAX:\n",
    "\n",
    "- _Not all JAX code can be JIT compiled, as it requires array shapes to be static & known at compile time._ [https://jax.readthedocs.io/en/latest/notebooks/thinking_in_jax.html#to-jit-or-not-to-jit](https://jax.readthedocs.io/en/latest/notebooks/thinking_in_jax.html#to-jit-or-not-to-jit)\n",
    "- _JIT and other JAX transforms work by tracing a function to determine its effect on inputs of a specific shape and type. Variables that you don’t want to be traced can be marked as static_ [https://jax.readthedocs.io/en/latest/notebooks/thinking_in_jax.html#jit-mechanics-tracing-and-static-variables](https://jax.readthedocs.io/en/latest/notebooks/thinking_in_jax.html#jit-mechanics-tracing-and-static-variables)\n",
    "- Recall that JIT compilation in pytorch cannot handle dynamic shapes, control flows, etc. since it is lost when constructing the Intermediate Representation (IR) of the computational graph that is ued for jitting. The same behaviour happens in JAX when constructing the `jaxpr` which is the name of the IR in JAX, see [https://jax.readthedocs.io/en/latest/jax-101/02-jitting.html#why-can-t-we-just-jit-everything](https://jax.readthedocs.io/en/latest/jax-101/02-jitting.html#why-can-t-we-just-jit-everything). However, in JAX, there exists way to not lose all the control flows, to conserve conditional statements even inside the `jaxpr`, etc. Let's mention the `static_argnums` decorator, the special `jax.lax.cond` function, etc. To find more about control flows and jit, see [https://jax.readthedocs.io/en/latest/notebooks/Common_Gotchas_in_JAX.html#python-control-flow-jit](https://jax.readthedocs.io/en/latest/notebooks/Common_Gotchas_in_JAX.html#python-control-flow-jit)\n",
    "- In fact, JAX is asked to JIT compile a function, it will _trace_ its arguments to create the jaxpr, more precisely [https://jax.readthedocs.io/en/latest/jax-101/02-jitting.html](https://jax.readthedocs.io/en/latest/jax-101/02-jitting.html):\n",
    "\n",
    "_When tracing, JAX wraps each argument by a tracer object. These tracers then record all JAX operations performed on them during the function call (which happens in regular Python). Then, JAX uses the tracer records to reconstruct the entire function. The output of that reconstruction is the jaxpr_\n",
    "\n",
    "- We then read:\n",
    "  \n",
    "_The more specific information about the values we use in the trace, the more we can use standard Python control flow to express ourselves. However, being too specific means we can’t reuse the same traced function for other values. JAX solves this by tracing at different levels of abstraction for different purposes. For `jax.jit`, the default level is `ShapedArray`_\n",
    "\n",
    "We understand that the arguments of a jitted function should inherit from the `ShapedArray` class, or be a Pytree with either 1.Pytree nodes or 2.leaf nodes being either a `ShapedArray` object or leaf nodes treated as `static` arguments.\n",
    "\n",
    "**Note on static arguments:**\n",
    "\n",
    "_we can tell JAX to help itself to a less abstract tracer for a particular input by specifying static_argnums or static_argnames. The cost of this is that the resulting jaxpr is less flexible, so JAX will have to re-compile the function for every new value of the specified static input. It is only a good strategy if the function is guaranteed to get limited different values._"
   ]
  },
  {
   "cell_type": "markdown",
   "id": "a99d2558-29fe-4b40-afb9-c3711cfd4be9",
   "metadata": {},
   "source": [
    "**NOTE: JIT with JAX level 3.5: _dataclasses_ and _pytrees_** \n",
    "\n",
    "The container `namedtuple` object we have created in this section can also be seen as a [Pytree](https://jax.readthedocs.io/en/latest/jax-101/05.1-pytrees.html). JAX offers convenient ways to work with such structures that we do not develop here. Pytrees are very popular and have been the object of many helper libraries to work with JAX: [simple-pytree](https://github.com/cgarciae/simple-pytree), [tjax](https://github.com/NeilGirdhar/tjax), [jax_dataclasses](https://github.com/brentyi/jax_dataclasses), etc."
   ]
  },
  {
   "cell_type": "markdown",
   "id": "b43b0530-261a-49ea-9980-10b8df2fcf6c",
   "metadata": {},
   "source": [
    "### JIT with JAX level 4: JIT on class methods\n",
    "In this section, we study the canonical way to JIT compile class methods, a introduction to this technique can be found here: [https://jax.readthedocs.io/en/latest/faq.html#how-to-use-jit-with-methods](https://jax.readthedocs.io/en/latest/faq.html#how-to-use-jit-with-methods). Note that the recipe we give here can also be seen from the viewpoint of Pytrees, since a class is somehow a container. We therefore want to [Extend Pytrees](https://jax.readthedocs.io/en/latest/pytrees.html#extending-pytrees). We here can draw a link with the elements we noted in the previous section: our custom class is now a Pytree, it can be jitted provided it contains (as attributes) 1.Pytree nodes or 2.leaf nodes being either a `ShapedArray` object or leaf nodes treated as `static` arguments!\n",
    "\n",
    "**One more important point** that can help you in your debugging: JAX requires the jitted functions to be pure, they cannot have any side effect [https://jax.readthedocs.io/en/latest/notebooks/Common_Gotchas_in_JAX.html#pure-functions](https://jax.readthedocs.io/en/latest/notebooks/Common_Gotchas_in_JAX.html#pure-functions):\n",
    "\n",
    "_JAX transformation and compilation are designed to work only on Python functions that are functionally pure: all the input data is passed through the function parameters, all the results are output through the function results. A pure function will always return the same result if invoked with the same inputs._"
   ]
  },
  {
   "cell_type": "code",
   "execution_count": 21,
   "id": "c7beb6be-fa55-4a42-8bc8-fb02454dc033",
   "metadata": {},
   "outputs": [],
   "source": [
    "from jax.tree_util import register_pytree_node_class\n",
    "\n",
    "@register_pytree_node_class\n",
    "class PLN:\n",
    "    def __init__(self, Y, O, X): \n",
    "        self.Y = Y\n",
    "        self.O = O\n",
    "        self.X = X\n",
    "        self.n, self.p = Y.shape\n",
    "        self.n = self.n\n",
    "        self.p = self.p\n",
    "        self.d = X.shape[1]\n",
    "        ## Variational parameters\n",
    "        self.M = jnp.full(Y.shape, 0.0)\n",
    "        self.S = jnp.full(Y.shape, 1.0)\n",
    "        ## Model parameters\n",
    "        self.B = jnp.zeros((self.d, self.p))\n",
    "        self.Sigma = jnp.eye(self.p)\n",
    "        self.Omega = jnp.eye(self.p)\n",
    "\n",
    "    def get_optim_params(self):\n",
    "        return {'B':self.B, 'M':self.M, 'S':self.S}\n",
    "        \n",
    "    def set_optim_params(self, op):\n",
    "        for k, v in op.items():\n",
    "            vars(self)[k] = v\n",
    "\n",
    "    def get_other_params(self):\n",
    "        return {\n",
    "            'X':self.X, 'O':self.O, 'n':self.n, 'Omega':self.Omega,\n",
    "            'Y':self.Y, 'p':self.p, 'Sigma':self.Sigma\n",
    "        }\n",
    "        \n",
    "    def set_other_params(self, op):\n",
    "        for k, v in op.items():\n",
    "            vars(self)[k] = v\n",
    "\n",
    "    def update_Sigma(self):\n",
    "        pln.Sigma = 1 / self.n * (self.M.T @ self.M + jnp.diag(jnp.sum(self.S ** 2, axis = 0)))\n",
    "\n",
    "    def update_Omega(self):\n",
    "        pln.Omega = jnp.linalg.inv(self.Sigma)\n",
    "\n",
    "    def tree_flatten(self):\n",
    "        children = (\n",
    "            self.B, self.M, self.S, self.Sigma, self.Omega,\n",
    "        )  # arrays / dynamic values\n",
    "        aux_data = {\n",
    "            'Y':self.Y, 'O':self.O, 'X':self.X,\n",
    "            'n':self.n, 'p':self.p, 'd':self.d\n",
    "        }  # static values\n",
    "        return (children, aux_data)\n",
    "\n",
    "    @classmethod\n",
    "    def tree_unflatten(cls, aux_data, children):\n",
    "        (B, M, S, Sigma, Omega) = children\n",
    "        obj = cls(\n",
    "            aux_data['Y'], aux_data['O'], aux_data['X']\n",
    "        )\n",
    "        obj.B = B\n",
    "        obj.M = M\n",
    "        obj.S = S\n",
    "        return obj"
   ]
  },
  {
   "cell_type": "markdown",
   "id": "8782f509-3b4a-4f5a-8cda-ff6fa8dffa54",
   "metadata": {},
   "source": [
    "Let's adapt the `scan_fun` function, we are now free to use our new class methods"
   ]
  },
  {
   "cell_type": "code",
   "execution_count": 22,
   "id": "b6672daf-f385-4899-82f6-778f5aa6134d",
   "metadata": {},
   "outputs": [],
   "source": [
    "def jaxfit4(pln, N_iter, lr, tol = 1e-8) :\n",
    "    optimizer = optax.chain(\n",
    "        #adam(learning_rate=lr)\n",
    "        optax.scale_by_radam(),\n",
    "        optax.scale(-1.0),\n",
    "        optax.clip(0.1),\n",
    "    )\n",
    "    opt_state = optimizer.init(pln.get_optim_params())\n",
    "\n",
    "    def scan_fun(carry, k):\n",
    "        pln = carry['PLN']\n",
    "        loss_value, grads = jax.value_and_grad(get_ELBO)(\n",
    "            pln.get_optim_params(),\n",
    "            pln.get_other_params()\n",
    "        )\n",
    "    \n",
    "        updates, opt_state = optimizer.update(grads, carry['opt_state'])\n",
    "        optim_params = optax.apply_updates(\n",
    "            pln.get_optim_params(),\n",
    "            updates\n",
    "        )\n",
    "        pln.set_optim_params(optim_params)\n",
    "    \n",
    "        ## update parameters with close form\n",
    "        pln.update_Sigma()\n",
    "        pln.update_Omega()\n",
    "    \n",
    "        carry['PLN'] = pln\n",
    "        carry['opt_state'] = opt_state\n",
    "        return carry, loss_value\n",
    " \n",
    "    carry, ELBO = jax.lax.scan(\n",
    "        scan_fun,\n",
    "        {\n",
    "            \"PLN\":pln,\n",
    "            'opt_state':opt_state\n",
    "        },\n",
    "        jnp.arange(N_iter)\n",
    "    )\n",
    "\n",
    "    return ELBO"
   ]
  },
  {
   "cell_type": "code",
   "execution_count": 23,
   "id": "a8568fbf-173b-4d08-9bda-fcee5966abbe",
   "metadata": {},
   "outputs": [
    {
     "name": "stdout",
     "output_type": "stream",
     "text": [
      "CPU times: user 20.7 s, sys: 114 ms, total: 20.8 s\n",
      "Wall time: 16.4 s\n"
     ]
    }
   ],
   "source": [
    "%%time\n",
    "pln = PLN(Y, O, X)\n",
    "jaxELBO4 = jax.block_until_ready(\n",
    "    jaxfit4(pln, N_iter, lr, tol=1e-8)\n",
    ")"
   ]
  },
  {
   "cell_type": "markdown",
   "id": "949a28de-76ba-4721-ab7c-022e311aafed",
   "metadata": {},
   "source": [
    "## Conclusion"
   ]
  },
  {
   "cell_type": "markdown",
   "id": "90cba7fa-862b-4268-b8ea-87fba86f8dbb",
   "metadata": {},
   "source": [
    "We check the results"
   ]
  },
  {
   "cell_type": "code",
   "execution_count": 24,
   "id": "0be5ef9c-6830-4a08-ab44-01ca71773fba",
   "metadata": {},
   "outputs": [
    {
     "name": "stderr",
     "output_type": "stream",
     "text": [
      "/tmp/ipykernel_33815/3050985271.py:2: RuntimeWarning: invalid value encountered in log\n",
      "  plt.plot(np.log(jaxELBO1), label='jit level 1')\n",
      "/tmp/ipykernel_33815/3050985271.py:3: RuntimeWarning: invalid value encountered in log\n",
      "  plt.plot(np.log(jaxELBO2), label='jit level 2')\n",
      "/tmp/ipykernel_33815/3050985271.py:4: RuntimeWarning: invalid value encountered in log\n",
      "  plt.plot(np.log(jaxELBO3), label='jit level 3')\n"
     ]
    },
    {
     "data": {
      "image/png": "[encoded data removed]",
      "text/plain": [
       "<Figure size 640x480 with 1 Axes>"
      ]
     },
     "metadata": {},
     "output_type": "display_data"
    }
   ],
   "source": [
    "plt.plot(np.log(jaxELBO_no_jit), label='no jit')\n",
    "plt.plot(np.log(jaxELBO1), label='jit level 1')\n",
    "plt.plot(np.log(jaxELBO2), label='jit level 2')\n",
    "plt.plot(np.log(jaxELBO3), label='jit level 3')\n",
    "plt.plot(np.log(jaxELBO4), label='jit level 4')\n",
    "plt.legend()\n",
    "plt.show()"
   ]
  },
  {
   "cell_type": "markdown",
   "id": "2538caeb-51f7-4709-9fe2-ccce8823d6a9",
   "metadata": {},
   "source": [
    "- Jitting a class is more involved in JAX than with pytorch, the best performances require some specific JAX knowledge that we exposed in each subsection of this document.\n",
    "- When jitting with JAX we fall back on quite the same difficulties as when jitting with pytorch trace.\n",
    "- However, JAX offers clear ways to overcome the difficulties that pytorch tracing does not offer (scan, static_argnums, pytrees, ...)\n",
    "- In this particular example on **GPU**, **jitted JAX can perform twice as fast as jitted pytorch**. But in this particular example on **CPU**, JAX is slower than pytorch; is it link with the points raised in [https://jax.readthedocs.io/en/latest/faq.html#benchmarking-jax-code](https://jax.readthedocs.io/en/latest/faq.html#benchmarking-jax-code) ? However, this also recalls what we can often read online: JAX is particularly suited for GPU optimization. We need to test JAX on other examples involving neural networks, mini-batches, etc. in order to understand JAX potential on CPU optimization too.\n"
   ]
  },
  {
   "cell_type": "code",
   "execution_count": null,
   "id": "8e734ee4-d289-4a90-be70-49c6b9888180",
   "metadata": {},
   "outputs": [],
   "source": []
  }
 ],
 "metadata": {
  "kernelspec": {
   "display_name": "Python 3 (ipykernel)",
   "language": "python",
   "name": "python3"
  },
  "language_info": {
   "codemirror_mode": {
    "name": "ipython",
    "version": 3
   },
   "file_extension": ".py",
   "mimetype": "text/x-python",
   "name": "python",
   "nbconvert_exporter": "python",
   "pygments_lexer": "ipython3",
   "version": "3.9.17"
  }
 },
 "nbformat": 4,
 "nbformat_minor": 5
}
